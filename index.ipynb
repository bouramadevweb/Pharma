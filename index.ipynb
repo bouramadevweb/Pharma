{
 "cells": [
  {
   "cell_type": "markdown",
   "metadata": {},
   "source": [
    " # Variable\n",
    " "
   ]
  },
  {
   "cell_type": "code",
   "execution_count": 4,
   "metadata": {},
   "outputs": [],
   "source": [
    "# type\n",
    "numerical_variable = 8\n",
    "type(numerical_variable)\n",
    "a = 7\n",
    "\n"
   ]
  },
  {
   "cell_type": "code",
   "execution_count": 5,
   "metadata": {},
   "outputs": [],
   "source": [
    "a = \"a\"\n",
    "b = \"b\"\n",
    "c =\"c\"\n",
    "\n",
    "\n",
    "zero = 0\n",
    "one = 1 \n",
    "two = 2\n"
   ]
  },
  {
   "cell_type": "code",
   "execution_count": 6,
   "metadata": {},
   "outputs": [
    {
     "data": {
      "text/plain": [
       "'\\ncommentaire\\n'"
      ]
     },
     "execution_count": 6,
     "metadata": {},
     "output_type": "execute_result"
    }
   ],
   "source": [
    "# Mon Commentaire\n",
    "\"\"\"\n",
    "commentaire\n",
    "\"\"\"\n",
    "#commentaire\n",
    "       "
   ]
  },
  {
   "cell_type": "markdown",
   "metadata": {},
   "source": [
    "# Les Objets\n"
   ]
  },
  {
   "cell_type": "code",
   "execution_count": 7,
   "metadata": {},
   "outputs": [],
   "source": [
    "# les Objes\n",
    "my_variable =\" String objet\"\n",
    "my_variable.lower()\n",
    "\n",
    "def myfunction():\n",
    "    \"\"\"cette fonction ne sert à rien\n",
    "    input :\n",
    "       None\n",
    "    output:\n",
    "       None   \n",
    "    \"\"\"\n",
    "    myfunction.__doc__"
   ]
  },
  {
   "cell_type": "code",
   "execution_count": 8,
   "metadata": {},
   "outputs": [
    {
     "name": "stdout",
     "output_type": "stream",
     "text": [
      "MESSAGE\n",
      "message\n",
      "Message\n"
     ]
    }
   ],
   "source": [
    "month = \"message\"\n",
    "# Majuscule\n",
    "print(month.upper())\n",
    "#Minuscule\n",
    "print(month.lower())\n",
    "#capitalisé\n",
    "print(month.capitalize())"
   ]
  },
  {
   "cell_type": "markdown",
   "metadata": {},
   "source": [
    "# les types de données"
   ]
  },
  {
   "cell_type": "code",
   "execution_count": 9,
   "metadata": {},
   "outputs": [
    {
     "data": {
      "text/plain": [
       "int"
      ]
     },
     "execution_count": 9,
     "metadata": {},
     "output_type": "execute_result"
    }
   ],
   "source": [
    "type(1)"
   ]
  },
  {
   "cell_type": "code",
   "execution_count": 10,
   "metadata": {},
   "outputs": [
    {
     "data": {
      "text/plain": [
       "1.987"
      ]
     },
     "execution_count": 10,
     "metadata": {},
     "output_type": "execute_result"
    }
   ],
   "source": [
    "type(1.01)\n",
    "round(1.9871,3)"
   ]
  },
  {
   "cell_type": "code",
   "execution_count": 11,
   "metadata": {},
   "outputs": [
    {
     "data": {
      "text/plain": [
       "bool"
      ]
     },
     "execution_count": 11,
     "metadata": {},
     "output_type": "execute_result"
    }
   ],
   "source": [
    "type(True)"
   ]
  },
  {
   "cell_type": "markdown",
   "metadata": {},
   "source": [
    "# les Sequences"
   ]
  },
  {
   "cell_type": "code",
   "execution_count": 12,
   "metadata": {},
   "outputs": [],
   "source": [
    "# lists\n",
    "listes =['one','two','three']\n",
    "#tuple\n",
    "('one','two','three')\n",
    "#set\n",
    "tuples ={'one','two','three'}\n",
    "# chaine de caracteur\n",
    "string=\"one\",\"two\",\"three\"\n"
   ]
  },
  {
   "cell_type": "code",
   "execution_count": 13,
   "metadata": {},
   "outputs": [
    {
     "data": {
      "text/plain": [
       "['one', 'two', 'three', 'foor']"
      ]
     },
     "execution_count": 13,
     "metadata": {},
     "output_type": "execute_result"
    }
   ],
   "source": [
    "listes.append(\"foor\")\n",
    "listes"
   ]
  },
  {
   "cell_type": "markdown",
   "metadata": {},
   "source": [
    "# Dictionnaire"
   ]
  },
  {
   "cell_type": "code",
   "execution_count": 14,
   "metadata": {},
   "outputs": [],
   "source": [
    "#dictionnaire\n",
    "dictionnaire= {1:'one',2:'two', 3:'three'}"
   ]
  },
  {
   "cell_type": "markdown",
   "metadata": {},
   "source": [
    "# Heures et minute"
   ]
  },
  {
   "cell_type": "code",
   "execution_count": 15,
   "metadata": {},
   "outputs": [],
   "source": [
    "# Date du jour\n",
    "date =\"\"\n",
    "# Nombre de minutes écouléels de puis minuit jusque 11 h30\n",
    "minute= \" \"\n",
    "\n",
    "# pourecentage de minutes restantes dans la journée\n",
    "\n",
    "# est que le nombre de minute éecoulé est pair ou impair\n"
   ]
  },
  {
   "cell_type": "code",
   "execution_count": 16,
   "metadata": {},
   "outputs": [
    {
     "name": "stdout",
     "output_type": "stream",
     "text": [
      "Date du jour: 18/01/2024\n",
      "Nombre de minutes écoulées depuis minuit jusqu'à 11h30: 690\n",
      "Pourcentage de minutes restantes dans la journée: 52 %\n",
      "Est-ce que le nombre de minutes écoulées est pair? True\n"
     ]
    }
   ],
   "source": [
    "from datetime import datetime\n",
    "\n",
    "# Date du jour\n",
    "date = \"18/01/2024\"\n",
    "print(f\"Date du jour:\", date)\n",
    "\n",
    "# Nombre de minutes écoulées depuis minuit jusqu'à 11h30\n",
    "minutes_ecoulees = (11 * 60 )+ 30\n",
    "print(f\"Nombre de minutes écoulées depuis minuit jusqu'à 11h30:\", minutes_ecoulees)\n",
    "\n",
    "# Pourcentage de minutes restantes dans la journée\n",
    "minutes_restantes = 24 * 60 - minutes_ecoulees\n",
    "pourcentage_restant = round((minutes_restantes / (24 * 60)) * 100)\n",
    "print(f\"Pourcentage de minutes restantes dans la journée:\", pourcentage_restant ,'%')\n",
    "\n",
    "# Est ce que le nombre de minutes écoulées est pair ou impair\n",
    "is_even = minutes_ecoulees % 2 == 0\n",
    "print(f\"Est-ce que le nombre de minutes écoulées est pair?\",is_even)\n"
   ]
  },
  {
   "cell_type": "markdown",
   "metadata": {},
   "source": [
    "# Gestion des erreurs"
   ]
  },
  {
   "cell_type": "code",
   "execution_count": null,
   "metadata": {},
   "outputs": [],
   "source": []
  },
  {
   "cell_type": "code",
   "execution_count": 17,
   "metadata": {},
   "outputs": [
    {
     "data": {
      "text/plain": [
       "1"
      ]
     },
     "execution_count": 17,
     "metadata": {},
     "output_type": "execute_result"
    }
   ],
   "source": [
    "2//2"
   ]
  },
  {
   "cell_type": "code",
   "execution_count": 18,
   "metadata": {},
   "outputs": [
    {
     "data": {
      "text/plain": [
       "0"
      ]
     },
     "execution_count": 18,
     "metadata": {},
     "output_type": "execute_result"
    }
   ],
   "source": [
    "2%1"
   ]
  },
  {
   "cell_type": "markdown",
   "metadata": {},
   "source": [
    "#arth"
   ]
  },
  {
   "cell_type": "code",
   "execution_count": 19,
   "metadata": {},
   "outputs": [
    {
     "name": "stdout",
     "output_type": "stream",
     "text": [
      " 7.0\n",
      " 21.0\n"
     ]
    }
   ],
   "source": [
    "t =(0+2+4+6+8+10+12+14)/8\n",
    "print(f'',t)\n",
    "\n",
    "s =((0**2 + 2**2 + 4**2 + 6**2 + 8**2+ 10**2 + 12**2+14**2)/8)-7**2\n",
    "print(f'',s)\n"
   ]
  },
  {
   "cell_type": "code",
   "execution_count": 20,
   "metadata": {},
   "outputs": [
    {
     "name": "stdout",
     "output_type": "stream",
     "text": [
      "Surface de la maison : 20 m, Prix de la maison : 151.5 \n",
      "Surface de la maison : 21 m, Prix de la maison : 159.0 \n",
      "Surface de la maison : 22 m, Prix de la maison : 166.5 \n",
      "Surface de la maison : 23 m, Prix de la maison : 174.0 \n",
      "Surface de la maison : 24 m, Prix de la maison : 181.5 \n",
      "Surface de la maison : 25 m, Prix de la maison : 189.0 \n",
      "Surface de la maison : 26 m, Prix de la maison : 196.5 \n",
      "Surface de la maison : 27 m, Prix de la maison : 204.0 \n",
      "Surface de la maison : 28 m, Prix de la maison : 211.5 \n",
      "Surface de la maison : 29 m, Prix de la maison : 219.0 \n",
      "Surface de la maison : 30 m, Prix de la maison : 226.5 \n",
      "Surface de la maison : 31 m, Prix de la maison : 234.0 \n",
      "Surface de la maison : 32 m, Prix de la maison : 241.5 \n",
      "Surface de la maison : 33 m, Prix de la maison : 249.0 \n",
      "Surface de la maison : 34 m, Prix de la maison : 256.5 \n",
      "Surface de la maison : 35 m, Prix de la maison : 264.0 \n",
      "Surface de la maison : 36 m, Prix de la maison : 271.5 \n",
      "Surface de la maison : 37 m, Prix de la maison : 279.0 \n",
      "Surface de la maison : 38 m, Prix de la maison : 286.5 \n",
      "Surface de la maison : 39 m, Prix de la maison : 294.0 \n",
      "Surface de la maison : 40 m, Prix de la maison : 301.5 \n",
      "Surface de la maison : 41 m, Prix de la maison : 309.0 \n",
      "Surface de la maison : 42 m, Prix de la maison : 316.5 \n",
      "Surface de la maison : 43 m, Prix de la maison : 324.0 \n",
      "Surface de la maison : 44 m, Prix de la maison : 331.5 \n",
      "Surface de la maison : 45 m, Prix de la maison : 339.0 \n",
      "Surface de la maison : 46 m, Prix de la maison : 346.5 \n",
      "Surface de la maison : 47 m, Prix de la maison : 354.0 \n",
      "Surface de la maison : 48 m, Prix de la maison : 361.5 \n",
      "Surface de la maison : 49 m, Prix de la maison : 369.0 \n"
     ]
    }
   ],
   "source": [
    "# x =surface de la maison\n",
    "# a =7.5\n",
    "#b =1.5\n",
    "# y =prix de la maison\n",
    "# y =ax +b\n",
    "# votre mission  est de calculer pour toutes les maisson allant de 20 m carre jusque 50 m care\n",
    "\n",
    "\n",
    "\n",
    "a = 7.5\n",
    "b = 1.5\n",
    "\n",
    "for x in range(20, 50):\n",
    "    surface_maison = x\n",
    "    prix_maison = a * surface_maison + b  # y =ax +b\n",
    "    print(f\"Surface de la maison : {surface_maison} m, Prix de la maison : {prix_maison} \")\n"
   ]
  },
  {
   "cell_type": "code",
   "execution_count": 21,
   "metadata": {},
   "outputs": [
    {
     "data": {
      "text/plain": [
       "100"
      ]
     },
     "execution_count": 21,
     "metadata": {},
     "output_type": "execute_result"
    }
   ],
   "source": [
    "[n for n in range(100)]\n",
    "100"
   ]
  },
  {
   "cell_type": "code",
   "execution_count": 22,
   "metadata": {},
   "outputs": [
    {
     "ename": "SyntaxError",
     "evalue": "invalid syntax (3755786455.py, line 1)",
     "output_type": "error",
     "traceback": [
      "\u001b[1;36m  Cell \u001b[1;32mIn[22], line 1\u001b[1;36m\u001b[0m\n\u001b[1;33m    x =surface de la maison\u001b[0m\n\u001b[1;37m               ^\u001b[0m\n\u001b[1;31mSyntaxError\u001b[0m\u001b[1;31m:\u001b[0m invalid syntax\n"
     ]
    }
   ],
   "source": [
    " x =surface de la maison\n",
    " a = 507.576\n",
    "b = 18.5\n",
    "c =-0.2\n",
    " y =prix de la maison\n",
    " y =ax2 +bx +c =y\n",
    " votre mission  est de calculer pour toutes les maisson allant de 20 m carre jusque 50 m care"
   ]
  },
  {
   "cell_type": "code",
   "execution_count": null,
   "metadata": {},
   "outputs": [
    {
     "name": "stdout",
     "output_type": "stream",
     "text": [
      "Surface: 200 m , Prix: 20306739.80 \n",
      "Surface: 210 m , Prix: 22387986.40 \n",
      "Surface: 220 m , Prix: 24570748.20 \n",
      "Surface: 230 m , Prix: 26855025.20 \n",
      "Surface: 240 m , Prix: 29240817.40 \n",
      "Surface: 250 m , Prix: 31728124.80 \n",
      "Surface: 260 m , Prix: 34316947.40 \n",
      "Surface: 270 m , Prix: 37007285.20 \n",
      "Surface: 280 m , Prix: 39799138.20 \n",
      "Surface: 290 m , Prix: 42692506.40 \n",
      "Surface: 300 m , Prix: 45687389.80 \n",
      "Surface: 310 m , Prix: 48783788.40 \n",
      "Surface: 320 m , Prix: 51981702.20 \n",
      "Surface: 330 m , Prix: 55281131.20 \n",
      "Surface: 340 m , Prix: 58682075.40 \n",
      "Surface: 350 m , Prix: 62184534.80 \n",
      "Surface: 360 m , Prix: 65788509.40 \n",
      "Surface: 370 m , Prix: 69493999.20 \n",
      "Surface: 380 m , Prix: 73301004.20 \n",
      "Surface: 390 m , Prix: 77209524.40 \n",
      "Surface: 400 m , Prix: 81219559.80 \n",
      "Surface: 410 m , Prix: 85331110.40 \n",
      "Surface: 420 m , Prix: 89544176.20 \n",
      "Surface: 430 m , Prix: 93858757.20 \n",
      "Surface: 440 m , Prix: 98274853.40 \n",
      "Surface: 450 m , Prix: 102792464.80 \n",
      "Surface: 460 m , Prix: 107411591.40 \n",
      "Surface: 470 m , Prix: 112132233.20 \n",
      "Surface: 480 m , Prix: 116954390.20 \n",
      "Surface: 490 m , Prix: 121878062.40 \n",
      "Surface: 500 m , Prix: 126903249.80 \n"
     ]
    }
   ],
   "source": [
    "\n",
    "a = 507.576\n",
    "b = 18.5\n",
    "c = -0.2\n",
    "\n",
    "\n",
    "# Surface de la maison (x) allant de 200 à 500 m²\n",
    "for surface in range(200, 501,10):\n",
    "    # Calcul du prix (y) pour chaque surface\n",
    "    prix = a * surface**2 + b * surface + c\n",
    "    y= prix\n",
    "    print(f\"Surface: {surface} m , Prix: {y:.2f} \")\n"
   ]
  },
  {
   "cell_type": "code",
   "execution_count": null,
   "metadata": {},
   "outputs": [],
   "source": [
    "import pandas as pd\n",
    "\n",
    "\n",
    "path = \"C://Users//adoup//OneDrive//Documents//PROJECT//APPRENDRE_PYTHON//content//PHARMA PILOT//EDUCATION//DATA//BusinessPartners.csv\"\n",
    "data = pd.read_csv(path)"
   ]
  },
  {
   "cell_type": "code",
   "execution_count": 78,
   "metadata": {},
   "outputs": [],
   "source": [
    "['All For Bikes',\n",
    " 'Amaze Bikes Inc',\n",
    " 'Arena Sports Inc',\n",
    " 'Atlanta Corp Inc',\n",
    " 'Bike World Inc',\n",
    " 'Alpha AG',\n",
    " 'BuchungsKreis 1010',\n",
    " 'Trek Cycle AG',\n",
    " 'Tona Bikes AG',\n",
    " 'Meine Bicycle',\n",
    " 'Avante Grande Bikes',\n",
    " 'Bike On',\n",
    " 'Carefree Cycles',\n",
    " 'G&M Bicycle',\n",
    " 'Keep Cycling',\n",
    " 'iCare Australia',\n",
    " 'CC SportWorld',\n",
    " 'DigiPay',\n",
    " 'TechCycle Canberra',\n",
    " 'eBike 100',\n",
    " 'Cycle World',\n",
    " 'High Tech Sports Inc',\n",
    " 'Tires On Fire',\n",
    " 'MX Bike',\n",
    " 'FitnessWorld',\n",
    " 'Homerun Millwork Inc.',\n",
    " 'Antonio Bandolera',\n",
    " 'Khan Cycles',\n",
    " 'Palm Beach Bike World',\n",
    " 'A to Z Fitness',\n",
    " 'Hudson SportsTec',\n",
    " 'Ebike 36',\n",
    " 'Wichita Sport',\n",
    " 'Move by Bike',\n",
    " 'TechCycle',\n",
    " 'YourCycleShop',\n",
    " 'Unolab Manufacturing',\n",
    " 'E bike 201',\n",
    " 'The Cycle Factor',\n",
    " 'Eiffel Bikes']\n",
    "company_names = [\n",
    "    'All For Bikes', 'Amaze Bikes Inc', 'Arena Sports Inc', 'Atlanta Corp Inc',\n",
    "    'Bike World Inc', 'Alpha AG', 'BuchungsKreis 1010', 'Trek Cycle AG',\n",
    "    'Tona Bikes AG', 'Meine Bicycle', 'Avante Grande Bikes', 'Bike On',\n",
    "    'Carefree Cycles', 'G&M Bicycle', 'Keep Cycling', 'iCare Australia',\n",
    "    'CC SportWorld', 'DigiPay', 'TechCycle Canberra', 'eBike 100', 'Cycle World',\n",
    "    'High Tech Sports Inc', 'Tires On Fire', 'MX Bike', 'FitnessWorld',\n",
    "    'Homerun Millwork Inc.', 'Antonio Bandolera', 'Khan Cycles',\n",
    "    'Palm Beach Bike World', 'A to Z Fitness', 'Hudson SportsTec', 'Ebike 36',\n",
    "    'Wichita Sport', 'Move by Bike', 'TechCycle', 'YourCycleShop',\n",
    "    'Unolab Manufacturing', 'E bike 201', 'The Cycle Factor', 'Eiffel Bikes'\n",
    "]\n",
    "\n",
    "\n",
    "\n",
    "\n"
   ]
  },
  {
   "cell_type": "code",
   "execution_count": 24,
   "metadata": {},
   "outputs": [
    {
     "name": "stdout",
     "output_type": "stream",
     "text": [
      "<class 'list'>\n",
      "['All', 'Amaze', 'Arena', 'Atlanta', 'Bike', 'Alpha', 'BuchungsKreis', 'Trek', 'Tona', 'Meine', 'Avante', 'Bike', 'Carefree', 'G&M', 'Keep', 'iCare', 'CC', 'DigiPay', 'TechCycle', 'eBike', 'Cycle', 'High', 'Tires', 'MX', 'FitnessWorld', 'Homerun', 'Antonio', 'Khan', 'Palm', 'A', 'Hudson', 'Ebike', 'Wichita', 'Move', 'TechCycle', 'YourCycleShop', 'Unolab', 'E', 'The', 'Eiffel']\n"
     ]
    }
   ],
   "source": [
    "letters = [name.split()[0] for name in company_names]\n",
    "\n",
    "print(type(letters))\n",
    "print(letters)\n"
   ]
  },
  {
   "cell_type": "markdown",
   "metadata": {},
   "source": [
    "# Les sets"
   ]
  },
  {
   "cell_type": "code",
   "execution_count": 25,
   "metadata": {},
   "outputs": [],
   "source": [
    "A = ['Oeuf','Lait','Sucre']\n",
    "A = set(A)\n",
    "B = ['Sucre','Farine','Huile']\n",
    "\n",
    "B = set(B)\n",
    "\n"
   ]
  },
  {
   "cell_type": "code",
   "execution_count": 27,
   "metadata": {},
   "outputs": [
    {
     "data": {
      "text/plain": [
       "{'Sucre'}"
      ]
     },
     "execution_count": 27,
     "metadata": {},
     "output_type": "execute_result"
    }
   ],
   "source": [
    "outer = A & B\n",
    "outer"
   ]
  },
  {
   "cell_type": "code",
   "execution_count": 28,
   "metadata": {},
   "outputs": [
    {
     "data": {
      "text/plain": [
       "{'Lait', 'Oeuf'}"
      ]
     },
     "execution_count": 28,
     "metadata": {},
     "output_type": "execute_result"
    }
   ],
   "source": [
    "left =A-B\n",
    "left"
   ]
  },
  {
   "cell_type": "code",
   "execution_count": 31,
   "metadata": {},
   "outputs": [
    {
     "data": {
      "text/plain": [
       "{'Lait', 'Oeuf', 'Sucre'}"
      ]
     },
     "execution_count": 31,
     "metadata": {},
     "output_type": "execute_result"
    }
   ],
   "source": [
    "left_inner=(A-B) | (A & B)\n",
    "left_inner"
   ]
  },
  {
   "cell_type": "code",
   "execution_count": 32,
   "metadata": {},
   "outputs": [
    {
     "data": {
      "text/plain": [
       "{'Lait', 'Oeuf', 'Sucre'}"
      ]
     },
     "execution_count": 32,
     "metadata": {},
     "output_type": "execute_result"
    }
   ],
   "source": [
    "left_inner =A or B"
   ]
  },
  {
   "cell_type": "code",
   "execution_count": 33,
   "metadata": {},
   "outputs": [
    {
     "data": {
      "text/plain": [
       "{'Farine', 'Huile', 'Lait', 'Oeuf', 'Sucre'}"
      ]
     },
     "execution_count": 33,
     "metadata": {},
     "output_type": "execute_result"
    }
   ],
   "source": [
    "A | B"
   ]
  },
  {
   "cell_type": "code",
   "execution_count": 37,
   "metadata": {},
   "outputs": [
    {
     "data": {
      "text/plain": [
       "({'Lait', 'Oeuf', 'Sucre'}, {'Farine', 'Huile', 'Sucre'})"
      ]
     },
     "execution_count": 37,
     "metadata": {},
     "output_type": "execute_result"
    }
   ],
   "source": [
    "l = A , B\n"
   ]
  },
  {
   "cell_type": "code",
   "execution_count": 51,
   "metadata": {},
   "outputs": [
    {
     "name": "stdout",
     "output_type": "stream",
     "text": [
      "Dates communes entre date1 et date2 : ['1994-12-31', '1993-12-31', '1992-12-31']\n"
     ]
    }
   ],
   "source": [
    "import pandas as pd\n",
    "\n",
    "date1 = pd.date_range('01/01/1992', '01/01/1999', freq='Y').astype(str).to_list()\n",
    "date2 = pd.date_range('01/01/1988', '01/01/1995', freq='Y').astype(str).tolist()\n",
    "\n",
    "# Convertir les listes en ensembles de dates\n",
    "set_date1 = set(date1)\n",
    "set_date2 = set(date2)\n",
    "\n",
    "# Trouver les dates communes en utilisant l'opérateur d'intersection\n",
    "dates_communes = list(set_date1 & set_date2)\n",
    "\n",
    "# Afficher les dates communes\n",
    "print(\"Dates communes entre date1 et date2 :\", dates_communes)\n",
    "\n",
    "\n",
    "\n",
    "\n",
    "\n"
   ]
  },
  {
   "cell_type": "code",
   "execution_count": 54,
   "metadata": {},
   "outputs": [
    {
     "name": "stdout",
     "output_type": "stream",
     "text": [
      " date dif : {'1994-12-31', '1993-12-31', '1992-12-31'}\n"
     ]
    }
   ],
   "source": [
    "\n",
    "\n",
    "\n",
    "print(\" date dif :\")\n",
    "#print(\"Dates présentes dans date2 mais pas dans date1 :\", dates_diff2)"
   ]
  },
  {
   "cell_type": "markdown",
   "metadata": {},
   "source": [
    "# Dictionnaire"
   ]
  },
  {
   "cell_type": "code",
   "execution_count": null,
   "metadata": {},
   "outputs": [],
   "source": [
    "translation ={'One':'une' ,'two':'deux'}\n",
    "translation.items()\n",
    "for  inglish ,french in translation.items() :\n",
    "     print(f\"la traductio de '{inglish}' est '{french}' \")\n",
    "    \n",
    "translation.keys()\n",
    "translation.values()\n",
    "\n",
    "{(key, value.upper()) for (key, value) in translations.items()}\n",
    "\n",
    "\n",
    "\n",
    "\n",
    "dict(([\"one\", \"two\"], [\"un\", \"deux\"]))\n"
   ]
  },
  {
   "cell_type": "code",
   "execution_count": 77,
   "metadata": {},
   "outputs": [
    {
     "name": "stdout",
     "output_type": "stream",
     "text": [
      "All For Bikes\n",
      "Amaze Bikes Inc\n",
      "Arena Sports Inc\n",
      "Atlanta Corp Inc\n",
      "Bike World Inc\n",
      "Alpha AG\n",
      "BuchungsKreis 1010\n",
      "Trek Cycle AG\n",
      "Tona Bikes AG\n",
      "Meine Bicycle\n",
      "Avante Grande Bikes\n",
      "Bike On\n",
      "Carefree Cycles\n",
      "G&M Bicycle\n",
      "Keep Cycling\n",
      "iCare Australia\n",
      "CC SportWorld\n",
      "DigiPay\n",
      "TechCycle Canberra\n",
      "eBike 100\n",
      "Cycle World\n",
      "High Tech Sports Inc\n",
      "Tires On Fire\n",
      "MX Bike\n",
      "FitnessWorld\n",
      "Homerun Millwork Inc.\n",
      "Antonio Bandolera\n",
      "Khan Cycles\n",
      "Palm Beach Bike World\n",
      "A to Z Fitness\n",
      "Hudson SportsTec\n",
      "Ebike 36\n",
      "Wichita Sport\n",
      "Move by Bike\n",
      "TechCycle\n",
      "YourCycleShop\n",
      "Unolab Manufacturing\n",
      "E bike 201\n",
      "The Cycle Factor\n",
      "Eiffel Bikes\n"
     ]
    }
   ],
   "source": [
    "\n",
    "\n",
    "\n"
   ]
  },
  {
   "cell_type": "code",
   "execution_count": 125,
   "metadata": {},
   "outputs": [
    {
     "name": "stdout",
     "output_type": "stream",
     "text": [
      "{'All': 0, 'Amaze': 1, 'Arena': 2, 'Atlanta': 3, 'Bike': 11, 'Alpha': 5, 'BuchungsKreis': 6, 'Trek': 7, 'Tona': 8, 'Meine': 9, 'Avante': 10, 'Carefree': 12, 'G&M': 13, 'Keep': 14, 'iCare': 15, 'CC': 16, 'DigiPay': 17, 'TechCycle': 34, 'eBike': 19, 'Cycle': 20, 'High': 21, 'Tires': 22, 'MX': 23, 'FitnessWorld': 24, 'Homerun': 25, 'Antonio': 26, 'Khan': 27, 'Palm': 28, 'A': 29, 'Hudson': 30, 'Ebike': 31, 'Wichita': 32, 'Move': 33, 'YourCycleShop': 35, 'Unolab': 36, 'E': 37, 'The': 38, 'Eiffel': 39}\n",
      "\n",
      "\n"
     ]
    }
   ],
   "source": [
    "company_names = [\n",
    "    'All For Bikes', 'Amaze Bikes Inc', 'Arena Sports Inc', 'Atlanta Corp Inc',\n",
    "    'Bike World Inc', 'Alpha AG', 'BuchungsKreis 1010', 'Trek Cycle AG',\n",
    "    'Tona Bikes AG', 'Meine Bicycle', 'Avante Grande Bikes', 'Bike On',\n",
    "    'Carefree Cycles', 'G&M Bicycle', 'Keep Cycling', 'iCare Australia',\n",
    "    'CC SportWorld', 'DigiPay', 'TechCycle Canberra', 'eBike 100', 'Cycle World',\n",
    "    'High Tech Sports Inc', 'Tires On Fire', 'MX Bike', 'FitnessWorld',\n",
    "    'Homerun Millwork Inc.', 'Antonio Bandolera', 'Khan Cycles',\n",
    "    'Palm Beach Bike World', 'A to Z Fitness', 'Hudson SportsTec', 'Ebike 36',\n",
    "    'Wichita Sport', 'Move by Bike', 'TechCycle', 'YourCycleShop',\n",
    "    'Unolab Manufacturing', 'E bike 201', 'The Cycle Factor', 'Eiffel Bikes'\n",
    "]\n",
    "\n",
    "dictionnaire_resultat = { mots.split()[0] :position for position ,mots in enumerate (company_names)}\n",
    "#sansdoublon = list(set(dictionnaire_resultat))\n",
    "#dictionnaire_resultats = {str(i): sansdoublon[i] for i in range(len(sansdoublon))}\n",
    "\n",
    "# Affichage du dictionnaire résultant\n",
    "print(dictionnaire_resultat)\n",
    "\n",
    "print(\"\\n\")\n",
    "# Affichage du dictionnaire résultants\n",
    "#print(dictionnaire_resultats)\n",
    "\n",
    "\n"
   ]
  },
  {
   "cell_type": "markdown",
   "metadata": {},
   "source": [
    "# Fonction "
   ]
  },
  {
   "cell_type": "code",
   "execution_count": 126,
   "metadata": {},
   "outputs": [],
   "source": [
    "def function_name():\n",
    "    return"
   ]
  },
  {
   "cell_type": "code",
   "execution_count": 132,
   "metadata": {},
   "outputs": [
    {
     "data": {
      "text/plain": [
       "500"
      ]
     },
     "execution_count": 132,
     "metadata": {},
     "output_type": "execute_result"
    }
   ],
   "source": [
    "def magimix(person,unit='g'):\n",
    "    \"\"\" Ma fonction magimix calcule les ingredients necessaires \n",
    "    Arg :preson(integer) :nombre de personne \n",
    "    retruns :\n",
    "      str :la recette\n",
    "    \"\"\"\n",
    "    global salt\n",
    "    sugar = 60*person\n",
    "    salt  = 100*person\n",
    "    if True :\n",
    "\n",
    "        return f'{sugar  } {unit} ,{salt} {unit}' \n",
    "    else :\n",
    "        return f'Cest faux'\n",
    "\n",
    "magimix(person = 5)\n"
   ]
  },
  {
   "cell_type": "code",
   "execution_count": 141,
   "metadata": {},
   "outputs": [
    {
     "data": {
      "text/plain": [
       "7.0"
      ]
     },
     "execution_count": 141,
     "metadata": {},
     "output_type": "execute_result"
    }
   ],
   "source": [
    "\n",
    "\n",
    "def calculer_moyenne(liste_elements):\n",
    "    if len(liste_elements) == 0:\n",
    "        return None  \n",
    "    else:\n",
    "        return sum(liste_elements) / len(liste_elements)\n",
    "\n",
    "\n",
    "t = [0, 2, 4, 6, 8, 10, 12, 14]\n",
    "\n",
    "calculer_moyenne(t)"
   ]
  },
  {
   "cell_type": "code",
   "execution_count": 146,
   "metadata": {},
   "outputs": [
    {
     "name": "stdout",
     "output_type": "stream",
     "text": [
      "La moyenne des carrés des éléments de la série t moins le carré de 7 est : 21.0\n"
     ]
    }
   ],
   "source": [
    "def moyenne_ca(serie):\n",
    "    if len(serie) == 0:\n",
    "        return None\n",
    "\n",
    "    moyenne_carres = (sum(x**2 for x in serie) / len(serie)) - 7**2\n",
    "    return moyenne_carres\n",
    "\n",
    "# Série de nombres\n",
    "t = [0, 2, 4, 6, 8, 10, 12, 14]\n",
    "\n",
    "# Appel de la fonction\n",
    "resultat = moyenne_ca(t)\n",
    "\n",
    "# Affichage du résultat\n",
    "if resultat is not None:\n",
    "    print(f\"La moyenne des carrés des éléments de la série t moins le carré de 7 est : {resultat}\")\n",
    "else:\n",
    "    print(\"La série est vide. Impossible de calculer la moyenne des carrés.\")\n"
   ]
  },
  {
   "cell_type": "code",
   "execution_count": 149,
   "metadata": {},
   "outputs": [
    {
     "name": "stdout",
     "output_type": "stream",
     "text": [
      "Ensemble de données: [0, 2, 4, 6, 8, 10, 12, 14]\n",
      "Moyenne: 7.0\n",
      "Variance: 21.0\n"
     ]
    }
   ],
   "source": [
    "def calculer_moyenne_variance(variance):\n",
    "    # Calculer la moyenne\n",
    "    mean_data = sum(variance) / len(variance)\n",
    "\n",
    "    # Calculer la somme des carrés des écarts par rapport à la moyenne\n",
    "    sum_squared_diff = sum((x - mean_data) ** 2 for x in variance)\n",
    "\n",
    "    # Calculer la variance\n",
    "    variance_data = sum_squared_diff / len(variance)\n",
    "\n",
    "    return mean_data, variance_data\n",
    "\n",
    "# Exemple d'utilisation avec un ensemble de données\n",
    "ensemble_de_donnees = [0, 2, 4, 6, 8, 10, 12, 14]\n",
    "moyenne, variance = calculer_moyenne_variance(ensemble_de_donnees)\n",
    "\n",
    "# Afficher les résultats\n",
    "print(\"Ensemble de données:\", ensemble_de_donnees)\n",
    "print(\"Moyenne:\", moyenne)\n",
    "print(\"Variance:\", variance)\n"
   ]
  },
  {
   "cell_type": "markdown",
   "metadata": {},
   "source": [
    "# Input"
   ]
  },
  {
   "cell_type": "code",
   "execution_count": 150,
   "metadata": {},
   "outputs": [],
   "source": [
    "nb_personne = input('Combien de personne viennent manger ce soire')\n",
    "nb_personne\n"
   ]
  }
 ],
 "metadata": {
  "kernelspec": {
   "display_name": "Python 3",
   "language": "python",
   "name": "python3"
  },
  "language_info": {
   "codemirror_mode": {
    "name": "ipython",
    "version": 3
   },
   "file_extension": ".py",
   "mimetype": "text/x-python",
   "name": "python",
   "nbconvert_exporter": "python",
   "pygments_lexer": "ipython3",
   "version": "3.12.1"
  }
 },
 "nbformat": 4,
 "nbformat_minor": 2
}
