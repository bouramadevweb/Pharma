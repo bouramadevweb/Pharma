{
 "cells": [
  {
   "cell_type": "markdown",
   "metadata": {},
   "source": [
    " # Variable\n",
    " "
   ]
  },
  {
   "cell_type": "code",
   "execution_count": 8,
   "metadata": {},
   "outputs": [],
   "source": [
    "numerical_variable = 8\n",
    "type(numerical_variable)\n",
    "a = 7\n",
    "\n"
   ]
  },
  {
   "cell_type": "code",
   "execution_count": 9,
   "metadata": {},
   "outputs": [],
   "source": [
    "a = \"a\"\n",
    "b = \"b\"\n",
    "c =\"c\"\n",
    "\n",
    "\n",
    "zero = 0\n",
    "one = 1 \n",
    "two = 2\n"
   ]
  },
  {
   "cell_type": "code",
   "execution_count": 10,
   "metadata": {},
   "outputs": [
    {
     "data": {
      "text/plain": [
       "'\\ncommentaire\\n'"
      ]
     },
     "execution_count": 10,
     "metadata": {},
     "output_type": "execute_result"
    }
   ],
   "source": [
    "# Mon Commentaire\n",
    "\"\"\"\n",
    "commentaire\n",
    "\"\"\"\n",
    "#commentaire\n",
    "       "
   ]
  },
  {
   "cell_type": "markdown",
   "metadata": {},
   "source": [
    "# Les Objets\n"
   ]
  },
  {
   "cell_type": "code",
   "execution_count": 11,
   "metadata": {},
   "outputs": [],
   "source": [
    "my_variable =\" String objet\"\n",
    "my_variable.lower()\n",
    "\n",
    "def myfunction():\n",
    "    \"\"\"cette fonction ne sert à rien\n",
    "    input :\n",
    "       None\n",
    "    output:\n",
    "       None   \n",
    "    \"\"\"\n",
    "    myfunction.__doc__"
   ]
  },
  {
   "cell_type": "code",
   "execution_count": 12,
   "metadata": {},
   "outputs": [
    {
     "name": "stdout",
     "output_type": "stream",
     "text": [
      "MESSAGE\n",
      "message\n",
      "Message\n"
     ]
    }
   ],
   "source": [
    "month = \"message\"\n",
    "# Majuscule\n",
    "print(month.upper())\n",
    "#Minuscule\n",
    "print(month.lower())\n",
    "#capitalisé\n",
    "print(month.capitalize())"
   ]
  },
  {
   "cell_type": "markdown",
   "metadata": {},
   "source": [
    "# les types de données"
   ]
  },
  {
   "cell_type": "code",
   "execution_count": 13,
   "metadata": {},
   "outputs": [
    {
     "data": {
      "text/plain": [
       "int"
      ]
     },
     "execution_count": 13,
     "metadata": {},
     "output_type": "execute_result"
    }
   ],
   "source": [
    "type(1)"
   ]
  },
  {
   "cell_type": "code",
   "execution_count": 16,
   "metadata": {},
   "outputs": [
    {
     "data": {
      "text/plain": [
       "1.987"
      ]
     },
     "execution_count": 16,
     "metadata": {},
     "output_type": "execute_result"
    }
   ],
   "source": [
    "type(1.01)\n",
    "round(1.9871,3)"
   ]
  },
  {
   "cell_type": "code",
   "execution_count": 15,
   "metadata": {},
   "outputs": [
    {
     "data": {
      "text/plain": [
       "bool"
      ]
     },
     "execution_count": 15,
     "metadata": {},
     "output_type": "execute_result"
    }
   ],
   "source": [
    "type(True)"
   ]
  },
  {
   "cell_type": "markdown",
   "metadata": {},
   "source": [
    "# les Sequences"
   ]
  },
  {
   "cell_type": "code",
   "execution_count": 7,
   "metadata": {},
   "outputs": [
    {
     "data": {
      "text/plain": [
       "['one', 'two', 'three']"
      ]
     },
     "execution_count": 7,
     "metadata": {},
     "output_type": "execute_result"
    }
   ],
   "source": [
    "# list\n",
    "['one','two','three']\n",
    "#tuple\n",
    "('one','two','three')\n",
    "#set\n",
    "{'one','two','three'}\n",
    "# chaine de caracteur\n",
    "\"one\",\"two\",\"three\"\n"
   ]
  },
  {
   "cell_type": "markdown",
   "metadata": {},
   "source": [
    "# Dictionnaire"
   ]
  },
  {
   "cell_type": "code",
   "execution_count": 17,
   "metadata": {},
   "outputs": [
    {
     "data": {
      "text/plain": [
       "{1: 'one', 2: 'two', 3: 'three'}"
      ]
     },
     "execution_count": 17,
     "metadata": {},
     "output_type": "execute_result"
    }
   ],
   "source": [
    "#dictionnaire\n",
    "{1:'one',2:'two', 3:'three'}"
   ]
  },
  {
   "cell_type": "markdown",
   "metadata": {},
   "source": [
    "# Heures et minute"
   ]
  },
  {
   "cell_type": "code",
   "execution_count": null,
   "metadata": {},
   "outputs": [],
   "source": [
    "# Date du jour\n",
    "date =\"\"\n",
    "# Nombre de minutes écouléels de puis minuit jusque 11 h30\n",
    "minute= \" \"\n",
    "\n",
    "# pourecentage de minutes restantes dans la journée\n",
    "\n",
    "# est que le nombre de minute éecoulé est pair ou impair\n"
   ]
  },
  {
   "cell_type": "code",
   "execution_count": 21,
   "metadata": {},
   "outputs": [
    {
     "name": "stdout",
     "output_type": "stream",
     "text": [
      "Date du jour: 18/01/2024\n",
      "Nombre de minutes écoulées depuis minuit jusqu'à 11h30: 690\n",
      "Pourcentage de minutes restantes dans la journée: 52 %\n",
      "Est-ce que le nombre de minutes écoulées est pair? True\n"
     ]
    }
   ],
   "source": [
    "from datetime import datetime\n",
    "\n",
    "# Date du jour\n",
    "date = \"18/01/2024\"\n",
    "print(f\"Date du jour:\", date)\n",
    "\n",
    "# Nombre de minutes écoulées depuis minuit jusqu'à 11h30\n",
    "minutes_ecoulees = (11 * 60 )+ 30\n",
    "print(f\"Nombre de minutes écoulées depuis minuit jusqu'à 11h30:\", minutes_ecoulees)\n",
    "\n",
    "# Pourcentage de minutes restantes dans la journée\n",
    "minutes_restantes = 24 * 60 - minutes_ecoulees\n",
    "pourcentage_restant = round((minutes_restantes / (24 * 60)) * 100)\n",
    "print(f\"Pourcentage de minutes restantes dans la journée:\", pourcentage_restant ,'%')\n",
    "\n",
    "# Est ce que le nombre de minutes écoulées est pair ou impair\n",
    "is_even = minutes_ecoulees % 2 == 0\n",
    "print(f\"Est-ce que le nombre de minutes écoulées est pair?\",is_even)\n"
   ]
  },
  {
   "cell_type": "markdown",
   "metadata": {},
   "source": [
    "# Gestion des erreurs"
   ]
  },
  {
   "cell_type": "code",
   "execution_count": null,
   "metadata": {},
   "outputs": [],
   "source": []
  },
  {
   "cell_type": "code",
   "execution_count": 1,
   "metadata": {},
   "outputs": [
    {
     "data": {
      "text/plain": [
       "1"
      ]
     },
     "execution_count": 1,
     "metadata": {},
     "output_type": "execute_result"
    }
   ],
   "source": [
    "2//2"
   ]
  },
  {
   "cell_type": "code",
   "execution_count": 4,
   "metadata": {},
   "outputs": [
    {
     "data": {
      "text/plain": [
       "0"
      ]
     },
     "execution_count": 4,
     "metadata": {},
     "output_type": "execute_result"
    }
   ],
   "source": [
    "2%1"
   ]
  },
  {
   "cell_type": "markdown",
   "metadata": {},
   "source": [
    "#arth"
   ]
  },
  {
   "cell_type": "code",
   "execution_count": 20,
   "metadata": {},
   "outputs": [
    {
     "name": "stdout",
     "output_type": "stream",
     "text": [
      " 7.0\n",
      " 21.0\n"
     ]
    }
   ],
   "source": [
    "t =(0+2+4+6+8+10+12+14)/8\n",
    "print(f'',t)\n",
    "\n",
    "s =((0**2 + 2**2 + 4**2 + 6**2 + 8**2+ 10**2 + 12**2+14**2)/8)-7**2\n",
    "print(f'',s)\n"
   ]
  },
  {
   "cell_type": "code",
   "execution_count": 23,
   "metadata": {},
   "outputs": [
    {
     "name": "stdout",
     "output_type": "stream",
     "text": [
      "392.0\n"
     ]
    }
   ],
   "source": []
  }
 ],
 "metadata": {
  "kernelspec": {
   "display_name": "Python 3",
   "language": "python",
   "name": "python3"
  },
  "language_info": {
   "codemirror_mode": {
    "name": "ipython",
    "version": 3
   },
   "file_extension": ".py",
   "mimetype": "text/x-python",
   "name": "python",
   "nbconvert_exporter": "python",
   "pygments_lexer": "ipython3",
   "version": "3.12.1"
  }
 },
 "nbformat": 4,
 "nbformat_minor": 2
}
