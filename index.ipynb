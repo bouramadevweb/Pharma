{
 "cells": [
  {
   "cell_type": "markdown",
   "metadata": {},
   "source": [
    " # Variable\n",
    " "
   ]
  },
  {
   "cell_type": "code",
   "execution_count": 10,
   "metadata": {},
   "outputs": [],
   "source": [
    "# type\n",
    "numerical_variable = 8\n",
    "type(numerical_variable)\n",
    "a = 7\n",
    "\n"
   ]
  },
  {
   "cell_type": "code",
   "execution_count": 11,
   "metadata": {},
   "outputs": [],
   "source": [
    "# a = \"a\"\n",
    "# b = \"b\"\n",
    "# c =\"c\"\n",
    "\n",
    "\n",
    "# zero = 0\n",
    "# one = 1 \n",
    "# two = 2\n"
   ]
  },
  {
   "cell_type": "code",
   "execution_count": 12,
   "metadata": {},
   "outputs": [
    {
     "data": {
      "text/plain": [
       "'\\ncommentaire\\n'"
      ]
     },
     "execution_count": 12,
     "metadata": {},
     "output_type": "execute_result"
    }
   ],
   "source": [
    "# Mon Commentaire\n",
    "\"\"\"\n",
    "commentaire\n",
    "\"\"\"\n",
    "#commentaire\n",
    "       "
   ]
  },
  {
   "cell_type": "markdown",
   "metadata": {},
   "source": [
    "# Les Objets\n"
   ]
  },
  {
   "cell_type": "code",
   "execution_count": 13,
   "metadata": {},
   "outputs": [],
   "source": [
    "# les Objes\n",
    "my_variable =\" String objet\"\n",
    "my_variable.lower()\n",
    "\n",
    "def myfunction():\n",
    "    \"\"\"cette fonction ne sert à rien\n",
    "    input :\n",
    "       None\n",
    "    output:\n",
    "       None   \n",
    "    \"\"\"\n",
    "    myfunction.__doc__"
   ]
  },
  {
   "cell_type": "code",
   "execution_count": 14,
   "metadata": {},
   "outputs": [
    {
     "name": "stdout",
     "output_type": "stream",
     "text": [
      "MESSAGE\n",
      "message\n",
      "Message\n"
     ]
    }
   ],
   "source": [
    "month = \"message\"\n",
    "# Majuscule\n",
    "print(month.upper())\n",
    "#Minuscule\n",
    "print(month.lower())\n",
    "#capitalisé\n",
    "print(month.capitalize())"
   ]
  },
  {
   "cell_type": "markdown",
   "metadata": {},
   "source": [
    "# les types de données"
   ]
  },
  {
   "cell_type": "code",
   "execution_count": 15,
   "metadata": {},
   "outputs": [
    {
     "data": {
      "text/plain": [
       "int"
      ]
     },
     "execution_count": 15,
     "metadata": {},
     "output_type": "execute_result"
    }
   ],
   "source": [
    "type(1)"
   ]
  },
  {
   "cell_type": "code",
   "execution_count": 16,
   "metadata": {},
   "outputs": [
    {
     "data": {
      "text/plain": [
       "1.987"
      ]
     },
     "execution_count": 16,
     "metadata": {},
     "output_type": "execute_result"
    }
   ],
   "source": [
    "type(1.01)\n",
    "round(1.9871,3)"
   ]
  },
  {
   "cell_type": "code",
   "execution_count": 17,
   "metadata": {},
   "outputs": [
    {
     "data": {
      "text/plain": [
       "bool"
      ]
     },
     "execution_count": 17,
     "metadata": {},
     "output_type": "execute_result"
    }
   ],
   "source": [
    "type(True)"
   ]
  },
  {
   "cell_type": "markdown",
   "metadata": {},
   "source": [
    "# les Sequences"
   ]
  },
  {
   "cell_type": "code",
   "execution_count": 18,
   "metadata": {},
   "outputs": [],
   "source": [
    "# lists\n",
    "listes =['one','two','three']\n",
    "#tuple\n",
    "('one','two','three')\n",
    "#set\n",
    "tuples ={'one','two','three'}\n",
    "# chaine de caracteur\n",
    "string=\"one\",\"two\",\"three\"\n"
   ]
  },
  {
   "cell_type": "code",
   "execution_count": 19,
   "metadata": {},
   "outputs": [
    {
     "data": {
      "text/plain": [
       "['one', 'two', 'three', 'foor']"
      ]
     },
     "execution_count": 19,
     "metadata": {},
     "output_type": "execute_result"
    }
   ],
   "source": [
    "listes.append(\"foor\")\n",
    "listes"
   ]
  },
  {
   "cell_type": "markdown",
   "metadata": {},
   "source": [
    "# Dictionnaire"
   ]
  },
  {
   "cell_type": "code",
   "execution_count": 20,
   "metadata": {},
   "outputs": [],
   "source": [
    "#dictionnaire\n",
    "dictionnaire= {1:'one',2:'two', 3:'three'}"
   ]
  },
  {
   "cell_type": "markdown",
   "metadata": {},
   "source": [
    "# Heures et minute"
   ]
  },
  {
   "cell_type": "code",
   "execution_count": 21,
   "metadata": {},
   "outputs": [],
   "source": [
    "# Date du jour\n",
    "date =\"\"\n",
    "# Nombre de minutes écouléels de puis minuit jusque 11 h30\n",
    "minute= \" \"\n",
    "\n",
    "# pourecentage de minutes restantes dans la journée\n",
    "\n",
    "# est que le nombre de minute éecoulé est pair ou impair\n"
   ]
  },
  {
   "cell_type": "code",
   "execution_count": 22,
   "metadata": {},
   "outputs": [
    {
     "name": "stdout",
     "output_type": "stream",
     "text": [
      "Date du jour: 18/01/2024\n",
      "Nombre de minutes écoulées depuis minuit jusqu'à 11h30: 690\n",
      "Pourcentage de minutes restantes dans la journée: 52 %\n",
      "Est-ce que le nombre de minutes écoulées est pair? True\n"
     ]
    }
   ],
   "source": [
    "from datetime import datetime\n",
    "\n",
    "# Date du jour\n",
    "date = \"18/01/2024\"\n",
    "print(f\"Date du jour:\", date)\n",
    "\n",
    "# Nombre de minutes écoulées depuis minuit jusqu'à 11h30\n",
    "minutes_ecoulees = (11 * 60 )+ 30\n",
    "print(f\"Nombre de minutes écoulées depuis minuit jusqu'à 11h30:\", minutes_ecoulees)\n",
    "\n",
    "# Pourcentage de minutes restantes dans la journée\n",
    "minutes_restantes = 24 * 60 - minutes_ecoulees\n",
    "pourcentage_restant = round((minutes_restantes / (24 * 60)) * 100)\n",
    "print(f\"Pourcentage de minutes restantes dans la journée:\", pourcentage_restant ,'%')\n",
    "\n",
    "# Est ce que le nombre de minutes écoulées est pair ou impair\n",
    "is_even = minutes_ecoulees % 2 == 0\n",
    "print(f\"Est-ce que le nombre de minutes écoulées est pair?\",is_even)\n"
   ]
  },
  {
   "cell_type": "markdown",
   "metadata": {},
   "source": [
    "# Gestion des erreurs"
   ]
  },
  {
   "cell_type": "code",
   "execution_count": null,
   "metadata": {},
   "outputs": [],
   "source": []
  },
  {
   "cell_type": "code",
   "execution_count": 23,
   "metadata": {},
   "outputs": [
    {
     "data": {
      "text/plain": [
       "1"
      ]
     },
     "execution_count": 23,
     "metadata": {},
     "output_type": "execute_result"
    }
   ],
   "source": [
    "2//2"
   ]
  },
  {
   "cell_type": "code",
   "execution_count": 24,
   "metadata": {},
   "outputs": [
    {
     "data": {
      "text/plain": [
       "0"
      ]
     },
     "execution_count": 24,
     "metadata": {},
     "output_type": "execute_result"
    }
   ],
   "source": [
    "2%1"
   ]
  },
  {
   "cell_type": "markdown",
   "metadata": {},
   "source": [
    "#arth"
   ]
  },
  {
   "cell_type": "code",
   "execution_count": 25,
   "metadata": {},
   "outputs": [
    {
     "name": "stdout",
     "output_type": "stream",
     "text": [
      " 7.0\n",
      " 21.0\n"
     ]
    }
   ],
   "source": [
    "t =(0+2+4+6+8+10+12+14)/8\n",
    "print(f'',t)\n",
    "\n",
    "s =((0**2 + 2**2 + 4**2 + 6**2 + 8**2+ 10**2 + 12**2+14**2)/8)-7**2\n",
    "print(f'',s)\n"
   ]
  },
  {
   "cell_type": "code",
   "execution_count": 26,
   "metadata": {},
   "outputs": [
    {
     "name": "stdout",
     "output_type": "stream",
     "text": [
      "Surface de la maison : 20 m, Prix de la maison : 151.5 \n",
      "Surface de la maison : 21 m, Prix de la maison : 159.0 \n",
      "Surface de la maison : 22 m, Prix de la maison : 166.5 \n",
      "Surface de la maison : 23 m, Prix de la maison : 174.0 \n",
      "Surface de la maison : 24 m, Prix de la maison : 181.5 \n",
      "Surface de la maison : 25 m, Prix de la maison : 189.0 \n",
      "Surface de la maison : 26 m, Prix de la maison : 196.5 \n",
      "Surface de la maison : 27 m, Prix de la maison : 204.0 \n",
      "Surface de la maison : 28 m, Prix de la maison : 211.5 \n",
      "Surface de la maison : 29 m, Prix de la maison : 219.0 \n",
      "Surface de la maison : 30 m, Prix de la maison : 226.5 \n",
      "Surface de la maison : 31 m, Prix de la maison : 234.0 \n",
      "Surface de la maison : 32 m, Prix de la maison : 241.5 \n",
      "Surface de la maison : 33 m, Prix de la maison : 249.0 \n",
      "Surface de la maison : 34 m, Prix de la maison : 256.5 \n",
      "Surface de la maison : 35 m, Prix de la maison : 264.0 \n",
      "Surface de la maison : 36 m, Prix de la maison : 271.5 \n",
      "Surface de la maison : 37 m, Prix de la maison : 279.0 \n",
      "Surface de la maison : 38 m, Prix de la maison : 286.5 \n",
      "Surface de la maison : 39 m, Prix de la maison : 294.0 \n",
      "Surface de la maison : 40 m, Prix de la maison : 301.5 \n",
      "Surface de la maison : 41 m, Prix de la maison : 309.0 \n",
      "Surface de la maison : 42 m, Prix de la maison : 316.5 \n",
      "Surface de la maison : 43 m, Prix de la maison : 324.0 \n",
      "Surface de la maison : 44 m, Prix de la maison : 331.5 \n",
      "Surface de la maison : 45 m, Prix de la maison : 339.0 \n",
      "Surface de la maison : 46 m, Prix de la maison : 346.5 \n",
      "Surface de la maison : 47 m, Prix de la maison : 354.0 \n",
      "Surface de la maison : 48 m, Prix de la maison : 361.5 \n",
      "Surface de la maison : 49 m, Prix de la maison : 369.0 \n"
     ]
    }
   ],
   "source": [
    "# x =surface de la maison\n",
    "# a =7.5\n",
    "#b =1.5\n",
    "# y =prix de la maison\n",
    "# y =ax +b\n",
    "# votre mission  est de calculer pour toutes les maisson allant de 20 m carre jusque 50 m care\n",
    "\n",
    "\n",
    "\n",
    "a = 7.5\n",
    "b = 1.5\n",
    "\n",
    "for x in range(20, 50):\n",
    "    surface_maison = x\n",
    "    prix_maison = a * surface_maison + b  # y =ax +b\n",
    "    print(f\"Surface de la maison : {surface_maison} m, Prix de la maison : {prix_maison} \")\n"
   ]
  },
  {
   "cell_type": "code",
   "execution_count": 27,
   "metadata": {},
   "outputs": [
    {
     "data": {
      "text/plain": [
       "100"
      ]
     },
     "execution_count": 27,
     "metadata": {},
     "output_type": "execute_result"
    }
   ],
   "source": [
    "[n for n in range(100)]\n",
    "100"
   ]
  },
  {
   "cell_type": "code",
   "execution_count": 28,
   "metadata": {},
   "outputs": [],
   "source": [
    "#  x =surface de la maison\n",
    "#  a = 507.576\n",
    "# b = 18.5\n",
    "# c =-0.2\n",
    "#  y =prix de la maison\n",
    "#  y =ax2 +bx +c =y\n",
    "#  votre mission  est de calculer pour toutes les maisson allant de 20 m carre jusque 50 m care"
   ]
  },
  {
   "cell_type": "code",
   "execution_count": 29,
   "metadata": {},
   "outputs": [
    {
     "name": "stdout",
     "output_type": "stream",
     "text": [
      "Surface: 200 m , Prix: 20306739.80 \n",
      "Surface: 210 m , Prix: 22387986.40 \n",
      "Surface: 220 m , Prix: 24570748.20 \n",
      "Surface: 230 m , Prix: 26855025.20 \n",
      "Surface: 240 m , Prix: 29240817.40 \n",
      "Surface: 250 m , Prix: 31728124.80 \n",
      "Surface: 260 m , Prix: 34316947.40 \n",
      "Surface: 270 m , Prix: 37007285.20 \n",
      "Surface: 280 m , Prix: 39799138.20 \n",
      "Surface: 290 m , Prix: 42692506.40 \n",
      "Surface: 300 m , Prix: 45687389.80 \n",
      "Surface: 310 m , Prix: 48783788.40 \n",
      "Surface: 320 m , Prix: 51981702.20 \n",
      "Surface: 330 m , Prix: 55281131.20 \n",
      "Surface: 340 m , Prix: 58682075.40 \n",
      "Surface: 350 m , Prix: 62184534.80 \n",
      "Surface: 360 m , Prix: 65788509.40 \n",
      "Surface: 370 m , Prix: 69493999.20 \n",
      "Surface: 380 m , Prix: 73301004.20 \n",
      "Surface: 390 m , Prix: 77209524.40 \n",
      "Surface: 400 m , Prix: 81219559.80 \n",
      "Surface: 410 m , Prix: 85331110.40 \n",
      "Surface: 420 m , Prix: 89544176.20 \n",
      "Surface: 430 m , Prix: 93858757.20 \n",
      "Surface: 440 m , Prix: 98274853.40 \n",
      "Surface: 450 m , Prix: 102792464.80 \n",
      "Surface: 460 m , Prix: 107411591.40 \n",
      "Surface: 470 m , Prix: 112132233.20 \n",
      "Surface: 480 m , Prix: 116954390.20 \n",
      "Surface: 490 m , Prix: 121878062.40 \n",
      "Surface: 500 m , Prix: 126903249.80 \n"
     ]
    }
   ],
   "source": [
    "\n",
    "a = 507.576\n",
    "b = 18.5\n",
    "c = -0.2\n",
    "\n",
    "\n",
    "# Surface de la maison (x) allant de 200 à 500 m²\n",
    "for surface in range(200, 501,10):\n",
    "    # Calcul du prix (y) pour chaque surface\n",
    "    prix = a * surface**2 + b * surface + c\n",
    "    y= prix\n",
    "    print(f\"Surface: {surface} m , Prix: {y:.2f} \")\n"
   ]
  },
  {
   "cell_type": "code",
   "execution_count": 30,
   "metadata": {},
   "outputs": [
    {
     "ename": "ImportError",
     "evalue": "Missing optional dependency 'fsspec'.  Use pip or conda to install fsspec.",
     "output_type": "error",
     "traceback": [
      "\u001b[1;31m---------------------------------------------------------------------------\u001b[0m",
      "\u001b[1;31mModuleNotFoundError\u001b[0m                       Traceback (most recent call last)",
      "File \u001b[1;32mc:\\Users\\HB\\AppData\\Local\\Programs\\Python\\Python312\\Lib\\site-packages\\pandas\\compat\\_optional.py:132\u001b[0m, in \u001b[0;36mimport_optional_dependency\u001b[1;34m(name, extra, errors, min_version)\u001b[0m\n\u001b[0;32m    131\u001b[0m \u001b[38;5;28;01mtry\u001b[39;00m:\n\u001b[1;32m--> 132\u001b[0m     module \u001b[38;5;241m=\u001b[39m \u001b[43mimportlib\u001b[49m\u001b[38;5;241;43m.\u001b[39;49m\u001b[43mimport_module\u001b[49m\u001b[43m(\u001b[49m\u001b[43mname\u001b[49m\u001b[43m)\u001b[49m\n\u001b[0;32m    133\u001b[0m \u001b[38;5;28;01mexcept\u001b[39;00m \u001b[38;5;167;01mImportError\u001b[39;00m:\n",
      "File \u001b[1;32mc:\\Users\\HB\\AppData\\Local\\Programs\\Python\\Python312\\Lib\\importlib\\__init__.py:90\u001b[0m, in \u001b[0;36mimport_module\u001b[1;34m(name, package)\u001b[0m\n\u001b[0;32m     89\u001b[0m         level \u001b[38;5;241m+\u001b[39m\u001b[38;5;241m=\u001b[39m \u001b[38;5;241m1\u001b[39m\n\u001b[1;32m---> 90\u001b[0m \u001b[38;5;28;01mreturn\u001b[39;00m \u001b[43m_bootstrap\u001b[49m\u001b[38;5;241;43m.\u001b[39;49m\u001b[43m_gcd_import\u001b[49m\u001b[43m(\u001b[49m\u001b[43mname\u001b[49m\u001b[43m[\u001b[49m\u001b[43mlevel\u001b[49m\u001b[43m:\u001b[49m\u001b[43m]\u001b[49m\u001b[43m,\u001b[49m\u001b[43m \u001b[49m\u001b[43mpackage\u001b[49m\u001b[43m,\u001b[49m\u001b[43m \u001b[49m\u001b[43mlevel\u001b[49m\u001b[43m)\u001b[49m\n",
      "File \u001b[1;32m<frozen importlib._bootstrap>:1387\u001b[0m, in \u001b[0;36m_gcd_import\u001b[1;34m(name, package, level)\u001b[0m\n",
      "File \u001b[1;32m<frozen importlib._bootstrap>:1360\u001b[0m, in \u001b[0;36m_find_and_load\u001b[1;34m(name, import_)\u001b[0m\n",
      "File \u001b[1;32m<frozen importlib._bootstrap>:1324\u001b[0m, in \u001b[0;36m_find_and_load_unlocked\u001b[1;34m(name, import_)\u001b[0m\n",
      "\u001b[1;31mModuleNotFoundError\u001b[0m: No module named 'fsspec'",
      "\nDuring handling of the above exception, another exception occurred:\n",
      "\u001b[1;31mImportError\u001b[0m                               Traceback (most recent call last)",
      "Cell \u001b[1;32mIn[30], line 5\u001b[0m\n\u001b[0;32m      1\u001b[0m \u001b[38;5;28;01mimport\u001b[39;00m \u001b[38;5;21;01mpandas\u001b[39;00m \u001b[38;5;28;01mas\u001b[39;00m \u001b[38;5;21;01mpd\u001b[39;00m\n\u001b[0;32m      4\u001b[0m path \u001b[38;5;241m=\u001b[39m \u001b[38;5;124m\"\u001b[39m\u001b[38;5;124mC://Users//adoup//OneDrive//Documents//PROJECT//APPRENDRE_PYTHON//content//PHARMA PILOT//EDUCATION//DATA//BusinessPartners.csv\u001b[39m\u001b[38;5;124m\"\u001b[39m\n\u001b[1;32m----> 5\u001b[0m data \u001b[38;5;241m=\u001b[39m \u001b[43mpd\u001b[49m\u001b[38;5;241;43m.\u001b[39;49m\u001b[43mread_csv\u001b[49m\u001b[43m(\u001b[49m\u001b[43mpath\u001b[49m\u001b[43m)\u001b[49m\n",
      "File \u001b[1;32mc:\\Users\\HB\\AppData\\Local\\Programs\\Python\\Python312\\Lib\\site-packages\\pandas\\io\\parsers\\readers.py:948\u001b[0m, in \u001b[0;36mread_csv\u001b[1;34m(filepath_or_buffer, sep, delimiter, header, names, index_col, usecols, dtype, engine, converters, true_values, false_values, skipinitialspace, skiprows, skipfooter, nrows, na_values, keep_default_na, na_filter, verbose, skip_blank_lines, parse_dates, infer_datetime_format, keep_date_col, date_parser, date_format, dayfirst, cache_dates, iterator, chunksize, compression, thousands, decimal, lineterminator, quotechar, quoting, doublequote, escapechar, comment, encoding, encoding_errors, dialect, on_bad_lines, delim_whitespace, low_memory, memory_map, float_precision, storage_options, dtype_backend)\u001b[0m\n\u001b[0;32m    935\u001b[0m kwds_defaults \u001b[38;5;241m=\u001b[39m _refine_defaults_read(\n\u001b[0;32m    936\u001b[0m     dialect,\n\u001b[0;32m    937\u001b[0m     delimiter,\n\u001b[1;32m   (...)\u001b[0m\n\u001b[0;32m    944\u001b[0m     dtype_backend\u001b[38;5;241m=\u001b[39mdtype_backend,\n\u001b[0;32m    945\u001b[0m )\n\u001b[0;32m    946\u001b[0m kwds\u001b[38;5;241m.\u001b[39mupdate(kwds_defaults)\n\u001b[1;32m--> 948\u001b[0m \u001b[38;5;28;01mreturn\u001b[39;00m \u001b[43m_read\u001b[49m\u001b[43m(\u001b[49m\u001b[43mfilepath_or_buffer\u001b[49m\u001b[43m,\u001b[49m\u001b[43m \u001b[49m\u001b[43mkwds\u001b[49m\u001b[43m)\u001b[49m\n",
      "File \u001b[1;32mc:\\Users\\HB\\AppData\\Local\\Programs\\Python\\Python312\\Lib\\site-packages\\pandas\\io\\parsers\\readers.py:611\u001b[0m, in \u001b[0;36m_read\u001b[1;34m(filepath_or_buffer, kwds)\u001b[0m\n\u001b[0;32m    608\u001b[0m _validate_names(kwds\u001b[38;5;241m.\u001b[39mget(\u001b[38;5;124m\"\u001b[39m\u001b[38;5;124mnames\u001b[39m\u001b[38;5;124m\"\u001b[39m, \u001b[38;5;28;01mNone\u001b[39;00m))\n\u001b[0;32m    610\u001b[0m \u001b[38;5;66;03m# Create the parser.\u001b[39;00m\n\u001b[1;32m--> 611\u001b[0m parser \u001b[38;5;241m=\u001b[39m \u001b[43mTextFileReader\u001b[49m\u001b[43m(\u001b[49m\u001b[43mfilepath_or_buffer\u001b[49m\u001b[43m,\u001b[49m\u001b[43m \u001b[49m\u001b[38;5;241;43m*\u001b[39;49m\u001b[38;5;241;43m*\u001b[39;49m\u001b[43mkwds\u001b[49m\u001b[43m)\u001b[49m\n\u001b[0;32m    613\u001b[0m \u001b[38;5;28;01mif\u001b[39;00m chunksize \u001b[38;5;129;01mor\u001b[39;00m iterator:\n\u001b[0;32m    614\u001b[0m     \u001b[38;5;28;01mreturn\u001b[39;00m parser\n",
      "File \u001b[1;32mc:\\Users\\HB\\AppData\\Local\\Programs\\Python\\Python312\\Lib\\site-packages\\pandas\\io\\parsers\\readers.py:1448\u001b[0m, in \u001b[0;36mTextFileReader.__init__\u001b[1;34m(self, f, engine, **kwds)\u001b[0m\n\u001b[0;32m   1445\u001b[0m     \u001b[38;5;28mself\u001b[39m\u001b[38;5;241m.\u001b[39moptions[\u001b[38;5;124m\"\u001b[39m\u001b[38;5;124mhas_index_names\u001b[39m\u001b[38;5;124m\"\u001b[39m] \u001b[38;5;241m=\u001b[39m kwds[\u001b[38;5;124m\"\u001b[39m\u001b[38;5;124mhas_index_names\u001b[39m\u001b[38;5;124m\"\u001b[39m]\n\u001b[0;32m   1447\u001b[0m \u001b[38;5;28mself\u001b[39m\u001b[38;5;241m.\u001b[39mhandles: IOHandles \u001b[38;5;241m|\u001b[39m \u001b[38;5;28;01mNone\u001b[39;00m \u001b[38;5;241m=\u001b[39m \u001b[38;5;28;01mNone\u001b[39;00m\n\u001b[1;32m-> 1448\u001b[0m \u001b[38;5;28mself\u001b[39m\u001b[38;5;241m.\u001b[39m_engine \u001b[38;5;241m=\u001b[39m \u001b[38;5;28;43mself\u001b[39;49m\u001b[38;5;241;43m.\u001b[39;49m\u001b[43m_make_engine\u001b[49m\u001b[43m(\u001b[49m\u001b[43mf\u001b[49m\u001b[43m,\u001b[49m\u001b[43m \u001b[49m\u001b[38;5;28;43mself\u001b[39;49m\u001b[38;5;241;43m.\u001b[39;49m\u001b[43mengine\u001b[49m\u001b[43m)\u001b[49m\n",
      "File \u001b[1;32mc:\\Users\\HB\\AppData\\Local\\Programs\\Python\\Python312\\Lib\\site-packages\\pandas\\io\\parsers\\readers.py:1705\u001b[0m, in \u001b[0;36mTextFileReader._make_engine\u001b[1;34m(self, f, engine)\u001b[0m\n\u001b[0;32m   1703\u001b[0m     \u001b[38;5;28;01mif\u001b[39;00m \u001b[38;5;124m\"\u001b[39m\u001b[38;5;124mb\u001b[39m\u001b[38;5;124m\"\u001b[39m \u001b[38;5;129;01mnot\u001b[39;00m \u001b[38;5;129;01min\u001b[39;00m mode:\n\u001b[0;32m   1704\u001b[0m         mode \u001b[38;5;241m+\u001b[39m\u001b[38;5;241m=\u001b[39m \u001b[38;5;124m\"\u001b[39m\u001b[38;5;124mb\u001b[39m\u001b[38;5;124m\"\u001b[39m\n\u001b[1;32m-> 1705\u001b[0m \u001b[38;5;28mself\u001b[39m\u001b[38;5;241m.\u001b[39mhandles \u001b[38;5;241m=\u001b[39m \u001b[43mget_handle\u001b[49m\u001b[43m(\u001b[49m\n\u001b[0;32m   1706\u001b[0m \u001b[43m    \u001b[49m\u001b[43mf\u001b[49m\u001b[43m,\u001b[49m\n\u001b[0;32m   1707\u001b[0m \u001b[43m    \u001b[49m\u001b[43mmode\u001b[49m\u001b[43m,\u001b[49m\n\u001b[0;32m   1708\u001b[0m \u001b[43m    \u001b[49m\u001b[43mencoding\u001b[49m\u001b[38;5;241;43m=\u001b[39;49m\u001b[38;5;28;43mself\u001b[39;49m\u001b[38;5;241;43m.\u001b[39;49m\u001b[43moptions\u001b[49m\u001b[38;5;241;43m.\u001b[39;49m\u001b[43mget\u001b[49m\u001b[43m(\u001b[49m\u001b[38;5;124;43m\"\u001b[39;49m\u001b[38;5;124;43mencoding\u001b[39;49m\u001b[38;5;124;43m\"\u001b[39;49m\u001b[43m,\u001b[49m\u001b[43m \u001b[49m\u001b[38;5;28;43;01mNone\u001b[39;49;00m\u001b[43m)\u001b[49m\u001b[43m,\u001b[49m\n\u001b[0;32m   1709\u001b[0m \u001b[43m    \u001b[49m\u001b[43mcompression\u001b[49m\u001b[38;5;241;43m=\u001b[39;49m\u001b[38;5;28;43mself\u001b[39;49m\u001b[38;5;241;43m.\u001b[39;49m\u001b[43moptions\u001b[49m\u001b[38;5;241;43m.\u001b[39;49m\u001b[43mget\u001b[49m\u001b[43m(\u001b[49m\u001b[38;5;124;43m\"\u001b[39;49m\u001b[38;5;124;43mcompression\u001b[39;49m\u001b[38;5;124;43m\"\u001b[39;49m\u001b[43m,\u001b[49m\u001b[43m \u001b[49m\u001b[38;5;28;43;01mNone\u001b[39;49;00m\u001b[43m)\u001b[49m\u001b[43m,\u001b[49m\n\u001b[0;32m   1710\u001b[0m \u001b[43m    \u001b[49m\u001b[43mmemory_map\u001b[49m\u001b[38;5;241;43m=\u001b[39;49m\u001b[38;5;28;43mself\u001b[39;49m\u001b[38;5;241;43m.\u001b[39;49m\u001b[43moptions\u001b[49m\u001b[38;5;241;43m.\u001b[39;49m\u001b[43mget\u001b[49m\u001b[43m(\u001b[49m\u001b[38;5;124;43m\"\u001b[39;49m\u001b[38;5;124;43mmemory_map\u001b[39;49m\u001b[38;5;124;43m\"\u001b[39;49m\u001b[43m,\u001b[49m\u001b[43m \u001b[49m\u001b[38;5;28;43;01mFalse\u001b[39;49;00m\u001b[43m)\u001b[49m\u001b[43m,\u001b[49m\n\u001b[0;32m   1711\u001b[0m \u001b[43m    \u001b[49m\u001b[43mis_text\u001b[49m\u001b[38;5;241;43m=\u001b[39;49m\u001b[43mis_text\u001b[49m\u001b[43m,\u001b[49m\n\u001b[0;32m   1712\u001b[0m \u001b[43m    \u001b[49m\u001b[43merrors\u001b[49m\u001b[38;5;241;43m=\u001b[39;49m\u001b[38;5;28;43mself\u001b[39;49m\u001b[38;5;241;43m.\u001b[39;49m\u001b[43moptions\u001b[49m\u001b[38;5;241;43m.\u001b[39;49m\u001b[43mget\u001b[49m\u001b[43m(\u001b[49m\u001b[38;5;124;43m\"\u001b[39;49m\u001b[38;5;124;43mencoding_errors\u001b[39;49m\u001b[38;5;124;43m\"\u001b[39;49m\u001b[43m,\u001b[49m\u001b[43m \u001b[49m\u001b[38;5;124;43m\"\u001b[39;49m\u001b[38;5;124;43mstrict\u001b[39;49m\u001b[38;5;124;43m\"\u001b[39;49m\u001b[43m)\u001b[49m\u001b[43m,\u001b[49m\n\u001b[0;32m   1713\u001b[0m \u001b[43m    \u001b[49m\u001b[43mstorage_options\u001b[49m\u001b[38;5;241;43m=\u001b[39;49m\u001b[38;5;28;43mself\u001b[39;49m\u001b[38;5;241;43m.\u001b[39;49m\u001b[43moptions\u001b[49m\u001b[38;5;241;43m.\u001b[39;49m\u001b[43mget\u001b[49m\u001b[43m(\u001b[49m\u001b[38;5;124;43m\"\u001b[39;49m\u001b[38;5;124;43mstorage_options\u001b[39;49m\u001b[38;5;124;43m\"\u001b[39;49m\u001b[43m,\u001b[49m\u001b[43m \u001b[49m\u001b[38;5;28;43;01mNone\u001b[39;49;00m\u001b[43m)\u001b[49m\u001b[43m,\u001b[49m\n\u001b[0;32m   1714\u001b[0m \u001b[43m\u001b[49m\u001b[43m)\u001b[49m\n\u001b[0;32m   1715\u001b[0m \u001b[38;5;28;01massert\u001b[39;00m \u001b[38;5;28mself\u001b[39m\u001b[38;5;241m.\u001b[39mhandles \u001b[38;5;129;01mis\u001b[39;00m \u001b[38;5;129;01mnot\u001b[39;00m \u001b[38;5;28;01mNone\u001b[39;00m\n\u001b[0;32m   1716\u001b[0m f \u001b[38;5;241m=\u001b[39m \u001b[38;5;28mself\u001b[39m\u001b[38;5;241m.\u001b[39mhandles\u001b[38;5;241m.\u001b[39mhandle\n",
      "File \u001b[1;32mc:\\Users\\HB\\AppData\\Local\\Programs\\Python\\Python312\\Lib\\site-packages\\pandas\\io\\common.py:718\u001b[0m, in \u001b[0;36mget_handle\u001b[1;34m(path_or_buf, mode, encoding, compression, memory_map, is_text, errors, storage_options)\u001b[0m\n\u001b[0;32m    715\u001b[0m     codecs\u001b[38;5;241m.\u001b[39mlookup_error(errors)\n\u001b[0;32m    717\u001b[0m \u001b[38;5;66;03m# open URLs\u001b[39;00m\n\u001b[1;32m--> 718\u001b[0m ioargs \u001b[38;5;241m=\u001b[39m \u001b[43m_get_filepath_or_buffer\u001b[49m\u001b[43m(\u001b[49m\n\u001b[0;32m    719\u001b[0m \u001b[43m    \u001b[49m\u001b[43mpath_or_buf\u001b[49m\u001b[43m,\u001b[49m\n\u001b[0;32m    720\u001b[0m \u001b[43m    \u001b[49m\u001b[43mencoding\u001b[49m\u001b[38;5;241;43m=\u001b[39;49m\u001b[43mencoding\u001b[49m\u001b[43m,\u001b[49m\n\u001b[0;32m    721\u001b[0m \u001b[43m    \u001b[49m\u001b[43mcompression\u001b[49m\u001b[38;5;241;43m=\u001b[39;49m\u001b[43mcompression\u001b[49m\u001b[43m,\u001b[49m\n\u001b[0;32m    722\u001b[0m \u001b[43m    \u001b[49m\u001b[43mmode\u001b[49m\u001b[38;5;241;43m=\u001b[39;49m\u001b[43mmode\u001b[49m\u001b[43m,\u001b[49m\n\u001b[0;32m    723\u001b[0m \u001b[43m    \u001b[49m\u001b[43mstorage_options\u001b[49m\u001b[38;5;241;43m=\u001b[39;49m\u001b[43mstorage_options\u001b[49m\u001b[43m,\u001b[49m\n\u001b[0;32m    724\u001b[0m \u001b[43m\u001b[49m\u001b[43m)\u001b[49m\n\u001b[0;32m    726\u001b[0m handle \u001b[38;5;241m=\u001b[39m ioargs\u001b[38;5;241m.\u001b[39mfilepath_or_buffer\n\u001b[0;32m    727\u001b[0m handles: \u001b[38;5;28mlist\u001b[39m[BaseBuffer]\n",
      "File \u001b[1;32mc:\\Users\\HB\\AppData\\Local\\Programs\\Python\\Python312\\Lib\\site-packages\\pandas\\io\\common.py:397\u001b[0m, in \u001b[0;36m_get_filepath_or_buffer\u001b[1;34m(filepath_or_buffer, encoding, compression, mode, storage_options)\u001b[0m\n\u001b[0;32m    395\u001b[0m \u001b[38;5;28;01mif\u001b[39;00m filepath_or_buffer\u001b[38;5;241m.\u001b[39mstartswith(\u001b[38;5;124m\"\u001b[39m\u001b[38;5;124ms3n://\u001b[39m\u001b[38;5;124m\"\u001b[39m):\n\u001b[0;32m    396\u001b[0m     filepath_or_buffer \u001b[38;5;241m=\u001b[39m filepath_or_buffer\u001b[38;5;241m.\u001b[39mreplace(\u001b[38;5;124m\"\u001b[39m\u001b[38;5;124ms3n://\u001b[39m\u001b[38;5;124m\"\u001b[39m, \u001b[38;5;124m\"\u001b[39m\u001b[38;5;124ms3://\u001b[39m\u001b[38;5;124m\"\u001b[39m)\n\u001b[1;32m--> 397\u001b[0m fsspec \u001b[38;5;241m=\u001b[39m \u001b[43mimport_optional_dependency\u001b[49m\u001b[43m(\u001b[49m\u001b[38;5;124;43m\"\u001b[39;49m\u001b[38;5;124;43mfsspec\u001b[39;49m\u001b[38;5;124;43m\"\u001b[39;49m\u001b[43m)\u001b[49m\n\u001b[0;32m    399\u001b[0m \u001b[38;5;66;03m# If botocore is installed we fallback to reading with anon=True\u001b[39;00m\n\u001b[0;32m    400\u001b[0m \u001b[38;5;66;03m# to allow reads from public buckets\u001b[39;00m\n\u001b[0;32m    401\u001b[0m err_types_to_retry_with_anon: \u001b[38;5;28mlist\u001b[39m[Any] \u001b[38;5;241m=\u001b[39m []\n",
      "File \u001b[1;32mc:\\Users\\HB\\AppData\\Local\\Programs\\Python\\Python312\\Lib\\site-packages\\pandas\\compat\\_optional.py:135\u001b[0m, in \u001b[0;36mimport_optional_dependency\u001b[1;34m(name, extra, errors, min_version)\u001b[0m\n\u001b[0;32m    133\u001b[0m \u001b[38;5;28;01mexcept\u001b[39;00m \u001b[38;5;167;01mImportError\u001b[39;00m:\n\u001b[0;32m    134\u001b[0m     \u001b[38;5;28;01mif\u001b[39;00m errors \u001b[38;5;241m==\u001b[39m \u001b[38;5;124m\"\u001b[39m\u001b[38;5;124mraise\u001b[39m\u001b[38;5;124m\"\u001b[39m:\n\u001b[1;32m--> 135\u001b[0m         \u001b[38;5;28;01mraise\u001b[39;00m \u001b[38;5;167;01mImportError\u001b[39;00m(msg)\n\u001b[0;32m    136\u001b[0m     \u001b[38;5;28;01mreturn\u001b[39;00m \u001b[38;5;28;01mNone\u001b[39;00m\n\u001b[0;32m    138\u001b[0m \u001b[38;5;66;03m# Handle submodules: if we have submodule, grab parent module from sys.modules\u001b[39;00m\n",
      "\u001b[1;31mImportError\u001b[0m: Missing optional dependency 'fsspec'.  Use pip or conda to install fsspec."
     ]
    }
   ],
   "source": [
    "import pandas as pd\n",
    "\n",
    "\n",
    "path = \"C://Users//adoup//OneDrive//Documents//PROJECT//APPRENDRE_PYTHON//content//PHARMA PILOT//EDUCATION//DATA//BusinessPartners.csv\"\n",
    "data = pd.read_csv(path)"
   ]
  },
  {
   "cell_type": "code",
   "execution_count": null,
   "metadata": {},
   "outputs": [],
   "source": [
    "['All For Bikes',\n",
    " 'Amaze Bikes Inc',\n",
    " 'Arena Sports Inc',\n",
    " 'Atlanta Corp Inc',\n",
    " 'Bike World Inc',\n",
    " 'Alpha AG',\n",
    " 'BuchungsKreis 1010',\n",
    " 'Trek Cycle AG',\n",
    " 'Tona Bikes AG',\n",
    " 'Meine Bicycle',\n",
    " 'Avante Grande Bikes',\n",
    " 'Bike On',\n",
    " 'Carefree Cycles',\n",
    " 'G&M Bicycle',\n",
    " 'Keep Cycling',\n",
    " 'iCare Australia',\n",
    " 'CC SportWorld',\n",
    " 'DigiPay',\n",
    " 'TechCycle Canberra',\n",
    " 'eBike 100',\n",
    " 'Cycle World',\n",
    " 'High Tech Sports Inc',\n",
    " 'Tires On Fire',\n",
    " 'MX Bike',\n",
    " 'FitnessWorld',\n",
    " 'Homerun Millwork Inc.',\n",
    " 'Antonio Bandolera',\n",
    " 'Khan Cycles',\n",
    " 'Palm Beach Bike World',\n",
    " 'A to Z Fitness',\n",
    " 'Hudson SportsTec',\n",
    " 'Ebike 36',\n",
    " 'Wichita Sport',\n",
    " 'Move by Bike',\n",
    " 'TechCycle',\n",
    " 'YourCycleShop',\n",
    " 'Unolab Manufacturing',\n",
    " 'E bike 201',\n",
    " 'The Cycle Factor',\n",
    " 'Eiffel Bikes']\n",
    "company_names = [\n",
    "    'All For Bikes', 'Amaze Bikes Inc', 'Arena Sports Inc', 'Atlanta Corp Inc',\n",
    "    'Bike World Inc', 'Alpha AG', 'BuchungsKreis 1010', 'Trek Cycle AG',\n",
    "    'Tona Bikes AG', 'Meine Bicycle', 'Avante Grande Bikes', 'Bike On',\n",
    "    'Carefree Cycles', 'G&M Bicycle', 'Keep Cycling', 'iCare Australia',\n",
    "    'CC SportWorld', 'DigiPay', 'TechCycle Canberra', 'eBike 100', 'Cycle World',\n",
    "    'High Tech Sports Inc', 'Tires On Fire', 'MX Bike', 'FitnessWorld',\n",
    "    'Homerun Millwork Inc.', 'Antonio Bandolera', 'Khan Cycles',\n",
    "    'Palm Beach Bike World', 'A to Z Fitness', 'Hudson SportsTec', 'Ebike 36',\n",
    "    'Wichita Sport', 'Move by Bike', 'TechCycle', 'YourCycleShop',\n",
    "    'Unolab Manufacturing', 'E bike 201', 'The Cycle Factor', 'Eiffel Bikes'\n",
    "]\n",
    "\n",
    "\n",
    "\n",
    "\n"
   ]
  },
  {
   "cell_type": "code",
   "execution_count": null,
   "metadata": {},
   "outputs": [],
   "source": [
    "letters = [name.split()[0] for name in company_names]\n",
    "\n",
    "print(type(letters))\n",
    "print(letters)\n"
   ]
  },
  {
   "cell_type": "markdown",
   "metadata": {},
   "source": [
    "# Les sets"
   ]
  },
  {
   "cell_type": "code",
   "execution_count": null,
   "metadata": {},
   "outputs": [],
   "source": [
    "A = ['Oeuf','Lait','Sucre']\n",
    "A = set(A)\n",
    "B = ['Sucre','Farine','Huile']\n",
    "\n",
    "B = set(B)\n",
    "\n"
   ]
  },
  {
   "cell_type": "code",
   "execution_count": null,
   "metadata": {},
   "outputs": [],
   "source": [
    "outer = A & B\n",
    "outer"
   ]
  },
  {
   "cell_type": "code",
   "execution_count": null,
   "metadata": {},
   "outputs": [],
   "source": [
    "left =A-B\n",
    "left"
   ]
  },
  {
   "cell_type": "code",
   "execution_count": null,
   "metadata": {},
   "outputs": [],
   "source": [
    "left_inner=(A-B) | (A & B)\n",
    "left_inner"
   ]
  },
  {
   "cell_type": "code",
   "execution_count": null,
   "metadata": {},
   "outputs": [],
   "source": [
    "left_inner =A or B"
   ]
  },
  {
   "cell_type": "code",
   "execution_count": null,
   "metadata": {},
   "outputs": [],
   "source": [
    "A | B"
   ]
  },
  {
   "cell_type": "code",
   "execution_count": null,
   "metadata": {},
   "outputs": [],
   "source": [
    "l = A , B\n"
   ]
  },
  {
   "cell_type": "code",
   "execution_count": null,
   "metadata": {},
   "outputs": [],
   "source": [
    "import pandas as pd\n",
    "\n",
    "date1 = pd.date_range('01/01/1992', '01/01/1999', freq='Y').astype(str).to_list()\n",
    "date2 = pd.date_range('01/01/1988', '01/01/1995', freq='Y').astype(str).tolist()\n",
    "\n",
    "# Convertir les listes en ensembles de dates\n",
    "set_date1 = set(date1)\n",
    "set_date2 = set(date2)\n",
    "\n",
    "# Trouver les dates communes en utilisant l'opérateur d'intersection\n",
    "dates_communes = list(set_date1 & set_date2)\n",
    "\n",
    "# Afficher les dates communes\n",
    "print(\"Dates communes entre date1 et date2 :\", dates_communes)\n",
    "\n",
    "\n",
    "\n",
    "\n",
    "\n"
   ]
  },
  {
   "cell_type": "code",
   "execution_count": null,
   "metadata": {},
   "outputs": [],
   "source": [
    "\n",
    "\n",
    "\n",
    "print(\" date dif :\")\n",
    "#print(\"Dates présentes dans date2 mais pas dans date1 :\", dates_diff2)"
   ]
  },
  {
   "cell_type": "markdown",
   "metadata": {},
   "source": [
    "# Dictionnaire"
   ]
  },
  {
   "cell_type": "code",
   "execution_count": null,
   "metadata": {},
   "outputs": [],
   "source": [
    "translation ={'One':'une' ,'two':'deux'}\n",
    "translation.items()\n",
    "for  inglish ,french in translation.items() :\n",
    "     print(f\"la traductio de '{inglish}' est '{french}' \")\n",
    "    \n",
    "translation.keys()\n",
    "translation.values()\n",
    "\n",
    "{(key, value.upper()) for (key, value) in translations.items()}\n",
    "\n",
    "\n",
    "\n",
    "\n",
    "dict(([\"one\", \"two\"], [\"un\", \"deux\"]))\n"
   ]
  },
  {
   "cell_type": "code",
   "execution_count": null,
   "metadata": {},
   "outputs": [],
   "source": [
    "\n",
    "\n",
    "\n"
   ]
  },
  {
   "cell_type": "code",
   "execution_count": null,
   "metadata": {},
   "outputs": [],
   "source": [
    "company_names = [\n",
    "    'All For Bikes', 'Amaze Bikes Inc', 'Arena Sports Inc', 'Atlanta Corp Inc',\n",
    "    'Bike World Inc', 'Alpha AG', 'BuchungsKreis 1010', 'Trek Cycle AG',\n",
    "    'Tona Bikes AG', 'Meine Bicycle', 'Avante Grande Bikes', 'Bike On',\n",
    "    'Carefree Cycles', 'G&M Bicycle', 'Keep Cycling', 'iCare Australia',\n",
    "    'CC SportWorld', 'DigiPay', 'TechCycle Canberra', 'eBike 100', 'Cycle World',\n",
    "    'High Tech Sports Inc', 'Tires On Fire', 'MX Bike', 'FitnessWorld',\n",
    "    'Homerun Millwork Inc.', 'Antonio Bandolera', 'Khan Cycles',\n",
    "    'Palm Beach Bike World', 'A to Z Fitness', 'Hudson SportsTec', 'Ebike 36',\n",
    "    'Wichita Sport', 'Move by Bike', 'TechCycle', 'YourCycleShop',\n",
    "    'Unolab Manufacturing', 'E bike 201', 'The Cycle Factor', 'Eiffel Bikes'\n",
    "]\n",
    "\n",
    "dictionnaire_resultat = { mots.split()[0] :position for position ,mots in enumerate (company_names)}\n",
    "#sansdoublon = list(set(dictionnaire_resultat))\n",
    "#dictionnaire_resultats = {str(i): sansdoublon[i] for i in range(len(sansdoublon))}\n",
    "\n",
    "# Affichage du dictionnaire résultant\n",
    "print(dictionnaire_resultat)\n",
    "\n",
    "print(\"\\n\")\n",
    "# Affichage du dictionnaire résultants\n",
    "#print(dictionnaire_resultats)\n",
    "\n",
    "\n"
   ]
  },
  {
   "cell_type": "markdown",
   "metadata": {},
   "source": [
    "# Fonction "
   ]
  },
  {
   "cell_type": "code",
   "execution_count": null,
   "metadata": {},
   "outputs": [],
   "source": [
    "def function_name():\n",
    "    return"
   ]
  },
  {
   "cell_type": "code",
   "execution_count": null,
   "metadata": {},
   "outputs": [],
   "source": [
    "def magimix(person,unit='g'):\n",
    "    \"\"\" Ma fonction magimix calcule les ingredients necessaires \n",
    "    Arg :preson(integer) :nombre de personne \n",
    "    retruns :\n",
    "      str :la recette\n",
    "    \"\"\"\n",
    "    global salt\n",
    "    sugar = 60*person\n",
    "    salt  = 100*person\n",
    "    if True :\n",
    "\n",
    "        return f'{sugar  } {unit} ,{salt} {unit}' \n",
    "    else :\n",
    "        return f'Cest faux'\n",
    "\n",
    "magimix(person = 5)\n"
   ]
  },
  {
   "cell_type": "code",
   "execution_count": null,
   "metadata": {},
   "outputs": [],
   "source": [
    "\n",
    "\n",
    "def calculer_moyenne(liste_elements):\n",
    "    if len(liste_elements) == 0:\n",
    "        return None  \n",
    "    else:\n",
    "        return sum(liste_elements) / len(liste_elements)\n",
    "\n",
    "\n",
    "t = [0, 2, 4, 6, 8, 10, 12, 14]\n",
    "\n",
    "calculer_moyenne(t)"
   ]
  },
  {
   "cell_type": "code",
   "execution_count": null,
   "metadata": {},
   "outputs": [],
   "source": [
    "def moyenne_ca(serie):\n",
    "    if len(serie) == 0:\n",
    "        return None\n",
    "\n",
    "    moyenne_carres = (sum(x**2 for x in serie) / len(serie)) - 7**2\n",
    "    return moyenne_carres\n",
    "\n",
    "# Série de nombres\n",
    "t = [0, 2, 4, 6, 8, 10, 12, 14]\n",
    "\n",
    "# Appel de la fonction\n",
    "resultat = moyenne_ca(t)\n",
    "\n",
    "# Affichage du résultat\n",
    "if resultat is not None:\n",
    "    print(f\"La moyenne des carrés des éléments de la série t moins le carré de 7 est : {resultat}\")\n",
    "else:\n",
    "    print(\"La série est vide. Impossible de calculer la moyenne des carrés.\")\n"
   ]
  },
  {
   "cell_type": "code",
   "execution_count": null,
   "metadata": {},
   "outputs": [],
   "source": [
    "def calculer_moyenne_variance(variance):\n",
    "    # Calculer la moyenne\n",
    "    mean_data = sum(variance) / len(variance)\n",
    "\n",
    "    # Calculer la somme des carrés des écarts par rapport à la moyenne\n",
    "    sum_squared_diff = sum((x - mean_data) ** 2 for x in variance)\n",
    "\n",
    "    # Calculer la variance\n",
    "    variance_data = sum_squared_diff / len(variance)\n",
    "\n",
    "    return mean_data, variance_data\n",
    "\n",
    "# Exemple d'utilisation avec un ensemble de données\n",
    "ensemble_de_donnees = [0, 2, 4, 6, 8, 10, 12, 14]\n",
    "moyenne, variance = calculer_moyenne_variance(ensemble_de_donnees)\n",
    "\n",
    "# Afficher les résultats\n",
    "print(\"Ensemble de données:\", ensemble_de_donnees)\n",
    "print(\"Moyenne:\", moyenne)\n",
    "print(\"Variance:\", variance)\n"
   ]
  },
  {
   "cell_type": "markdown",
   "metadata": {},
   "source": [
    "# Input"
   ]
  },
  {
   "cell_type": "code",
   "execution_count": null,
   "metadata": {},
   "outputs": [],
   "source": [
    "nb_personne = input('Combien de personne viennent manger ce soire')\n",
    "print(nb_personne)\n"
   ]
  },
  {
   "cell_type": "code",
   "execution_count": null,
   "metadata": {},
   "outputs": [
    {
     "name": "stdout",
     "output_type": "stream",
     "text": [
      "La moyenne des valeurs est : 1.0\n"
     ]
    }
   ],
   "source": [
    "def calculer_moyenne(elements):\n",
    "    if len(elements) == 0:\n",
    "        return None\n",
    "    else:\n",
    "        return sum(elements) / len(elements)\n",
    "\n",
    "valeurs_entrees = input(\"Entrez  les valeurs separé par virgul  \")\n",
    "\n",
    "liste = [int(v) for v in valeurs_entrees.split(',')]\n",
    "\n",
    "moyenne = calculer_moyenne(liste)\n",
    "\n",
    "if moyenne is not None:\n",
    "    print(f\"La moyenne des valeurs est : {moyenne}\")\n",
    "else:\n",
    "    print(\"La liste est vide.\")\n"
   ]
  },
  {
   "cell_type": "code",
   "execution_count": null,
   "metadata": {},
   "outputs": [],
   "source": [
    "# import turtle\n",
    "# from turtle import *\n",
    "\n",
    "\n",
    "# c=2\n",
    "# u=100\n",
    "\n",
    "# right(36)\n",
    "\n",
    "# for k in range(5):\n",
    "#     forward(c*u)\n",
    "#     left(144)\n",
    "\n",
    "\n",
    "# exitonclick()"
   ]
  },
  {
   "cell_type": "code",
   "execution_count": 5,
   "metadata": {},
   "outputs": [
    {
     "ename": "Terminator",
     "evalue": "",
     "output_type": "error",
     "traceback": [
      "\u001b[1;31m---------------------------------------------------------------------------\u001b[0m",
      "\u001b[1;31mTerminator\u001b[0m                                Traceback (most recent call last)",
      "Cell \u001b[1;32mIn[5], line 4\u001b[0m\n\u001b[0;32m      1\u001b[0m \u001b[38;5;28;01mimport\u001b[39;00m \u001b[38;5;21;01mturtle\u001b[39;00m \n\u001b[0;32m      3\u001b[0m fenetre \u001b[38;5;241m=\u001b[39mturtle\u001b[38;5;241m.\u001b[39mScreen()\n\u001b[1;32m----> 4\u001b[0m demTur\u001b[38;5;241m=\u001b[39m\u001b[43mturtle\u001b[49m\u001b[38;5;241;43m.\u001b[39;49m\u001b[43mTurtle\u001b[49m\u001b[43m(\u001b[49m\u001b[43m)\u001b[49m\n\u001b[0;32m      5\u001b[0m demTur\u001b[38;5;241m.\u001b[39mspeed(\u001b[38;5;241m2\u001b[39m)\n\u001b[0;32m      7\u001b[0m \u001b[38;5;28;01mfor\u001b[39;00m _ \u001b[38;5;129;01min\u001b[39;00m \u001b[38;5;28mrange\u001b[39m(\u001b[38;5;241m5\u001b[39m):\n",
      "File \u001b[1;32mc:\\Users\\HB\\AppData\\Local\\Programs\\Python\\Python312\\Lib\\turtle.py:3876\u001b[0m, in \u001b[0;36mTurtle.__init__\u001b[1;34m(self, shape, undobuffersize, visible)\u001b[0m\n\u001b[0;32m   3874\u001b[0m \u001b[38;5;28;01mif\u001b[39;00m Turtle\u001b[38;5;241m.\u001b[39m_screen \u001b[38;5;129;01mis\u001b[39;00m \u001b[38;5;28;01mNone\u001b[39;00m:\n\u001b[0;32m   3875\u001b[0m     Turtle\u001b[38;5;241m.\u001b[39m_screen \u001b[38;5;241m=\u001b[39m Screen()\n\u001b[1;32m-> 3876\u001b[0m \u001b[43mRawTurtle\u001b[49m\u001b[38;5;241;43m.\u001b[39;49m\u001b[38;5;21;43m__init__\u001b[39;49m\u001b[43m(\u001b[49m\u001b[38;5;28;43mself\u001b[39;49m\u001b[43m,\u001b[49m\u001b[43m \u001b[49m\u001b[43mTurtle\u001b[49m\u001b[38;5;241;43m.\u001b[39;49m\u001b[43m_screen\u001b[49m\u001b[43m,\u001b[49m\n\u001b[0;32m   3877\u001b[0m \u001b[43m                   \u001b[49m\u001b[43mshape\u001b[49m\u001b[38;5;241;43m=\u001b[39;49m\u001b[43mshape\u001b[49m\u001b[43m,\u001b[49m\n\u001b[0;32m   3878\u001b[0m \u001b[43m                   \u001b[49m\u001b[43mundobuffersize\u001b[49m\u001b[38;5;241;43m=\u001b[39;49m\u001b[43mundobuffersize\u001b[49m\u001b[43m,\u001b[49m\n\u001b[0;32m   3879\u001b[0m \u001b[43m                   \u001b[49m\u001b[43mvisible\u001b[49m\u001b[38;5;241;43m=\u001b[39;49m\u001b[43mvisible\u001b[49m\u001b[43m)\u001b[49m\n",
      "File \u001b[1;32mc:\\Users\\HB\\AppData\\Local\\Programs\\Python\\Python312\\Lib\\turtle.py:2565\u001b[0m, in \u001b[0;36mRawTurtle.__init__\u001b[1;34m(self, canvas, shape, undobuffersize, visible)\u001b[0m\n\u001b[0;32m   2563\u001b[0m \u001b[38;5;28mself\u001b[39m\u001b[38;5;241m.\u001b[39m_undobuffersize \u001b[38;5;241m=\u001b[39m undobuffersize\n\u001b[0;32m   2564\u001b[0m \u001b[38;5;28mself\u001b[39m\u001b[38;5;241m.\u001b[39mundobuffer \u001b[38;5;241m=\u001b[39m Tbuffer(undobuffersize)\n\u001b[1;32m-> 2565\u001b[0m \u001b[38;5;28;43mself\u001b[39;49m\u001b[38;5;241;43m.\u001b[39;49m\u001b[43m_update\u001b[49m\u001b[43m(\u001b[49m\u001b[43m)\u001b[49m\n",
      "File \u001b[1;32mc:\\Users\\HB\\AppData\\Local\\Programs\\Python\\Python312\\Lib\\turtle.py:2668\u001b[0m, in \u001b[0;36mRawTurtle._update\u001b[1;34m(self)\u001b[0m\n\u001b[0;32m   2666\u001b[0m     \u001b[38;5;28;01mreturn\u001b[39;00m\n\u001b[0;32m   2667\u001b[0m \u001b[38;5;28;01melif\u001b[39;00m screen\u001b[38;5;241m.\u001b[39m_tracing \u001b[38;5;241m==\u001b[39m \u001b[38;5;241m1\u001b[39m:\n\u001b[1;32m-> 2668\u001b[0m     \u001b[38;5;28;43mself\u001b[39;49m\u001b[38;5;241;43m.\u001b[39;49m\u001b[43m_update_data\u001b[49m\u001b[43m(\u001b[49m\u001b[43m)\u001b[49m\n\u001b[0;32m   2669\u001b[0m     \u001b[38;5;28mself\u001b[39m\u001b[38;5;241m.\u001b[39m_drawturtle()\n\u001b[0;32m   2670\u001b[0m     screen\u001b[38;5;241m.\u001b[39m_update()                  \u001b[38;5;66;03m# TurtleScreenBase\u001b[39;00m\n",
      "File \u001b[1;32mc:\\Users\\HB\\AppData\\Local\\Programs\\Python\\Python312\\Lib\\turtle.py:2654\u001b[0m, in \u001b[0;36mRawTurtle._update_data\u001b[1;34m(self)\u001b[0m\n\u001b[0;32m   2653\u001b[0m \u001b[38;5;28;01mdef\u001b[39;00m \u001b[38;5;21m_update_data\u001b[39m(\u001b[38;5;28mself\u001b[39m):\n\u001b[1;32m-> 2654\u001b[0m     \u001b[38;5;28;43mself\u001b[39;49m\u001b[38;5;241;43m.\u001b[39;49m\u001b[43mscreen\u001b[49m\u001b[38;5;241;43m.\u001b[39;49m\u001b[43m_incrementudc\u001b[49m\u001b[43m(\u001b[49m\u001b[43m)\u001b[49m\n\u001b[0;32m   2655\u001b[0m     \u001b[38;5;28;01mif\u001b[39;00m \u001b[38;5;28mself\u001b[39m\u001b[38;5;241m.\u001b[39mscreen\u001b[38;5;241m.\u001b[39m_updatecounter \u001b[38;5;241m!=\u001b[39m \u001b[38;5;241m0\u001b[39m:\n\u001b[0;32m   2656\u001b[0m         \u001b[38;5;28;01mreturn\u001b[39;00m\n",
      "File \u001b[1;32mc:\\Users\\HB\\AppData\\Local\\Programs\\Python\\Python312\\Lib\\turtle.py:1284\u001b[0m, in \u001b[0;36mTurtleScreen._incrementudc\u001b[1;34m(self)\u001b[0m\n\u001b[0;32m   1282\u001b[0m \u001b[38;5;28;01mif\u001b[39;00m \u001b[38;5;129;01mnot\u001b[39;00m TurtleScreen\u001b[38;5;241m.\u001b[39m_RUNNING:\n\u001b[0;32m   1283\u001b[0m     TurtleScreen\u001b[38;5;241m.\u001b[39m_RUNNING \u001b[38;5;241m=\u001b[39m \u001b[38;5;28;01mTrue\u001b[39;00m\n\u001b[1;32m-> 1284\u001b[0m     \u001b[38;5;28;01mraise\u001b[39;00m Terminator\n\u001b[0;32m   1285\u001b[0m \u001b[38;5;28;01mif\u001b[39;00m \u001b[38;5;28mself\u001b[39m\u001b[38;5;241m.\u001b[39m_tracing \u001b[38;5;241m>\u001b[39m \u001b[38;5;241m0\u001b[39m:\n\u001b[0;32m   1286\u001b[0m     \u001b[38;5;28mself\u001b[39m\u001b[38;5;241m.\u001b[39m_updatecounter \u001b[38;5;241m+\u001b[39m\u001b[38;5;241m=\u001b[39m \u001b[38;5;241m1\u001b[39m\n",
      "\u001b[1;31mTerminator\u001b[0m: "
     ]
    }
   ],
   "source": [
    "import turtle \n",
    "\n",
    "fenetre =turtle.Screen()\n",
    "demTur=turtle.Turtle()\n",
    "demTur.speed(2)\n",
    "\n",
    "for _ in range(5):\n",
    "    for _ in range(5):\n",
    "        demTur.forward(100)\n",
    "        demTur.right(144)\n",
    "    demTur.penup()\n",
    "    demTur.forward(150)\n",
    "    demTur.pendown()\n",
    "    \n",
    "turtle.exitonclick()"
   ]
  }
 ],
 "metadata": {
  "kernelspec": {
   "display_name": "Python 3",
   "language": "python",
   "name": "python3"
  },
  "language_info": {
   "codemirror_mode": {
    "name": "ipython",
    "version": 3
   },
   "file_extension": ".py",
   "mimetype": "text/x-python",
   "name": "python",
   "nbconvert_exporter": "python",
   "pygments_lexer": "ipython3",
   "version": "3.12.1"
  }
 },
 "nbformat": 4,
 "nbformat_minor": 2
}
